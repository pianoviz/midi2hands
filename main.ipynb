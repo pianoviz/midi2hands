{
 "cells": [
  {
   "cell_type": "code",
   "execution_count": 63,
   "metadata": {},
   "outputs": [],
   "source": [
    "import numpy as np\n",
    "from tqdm import tqdm\n",
    "from mido.midifiles.midifiles import MidiFile\n",
    "from pathlib import Path"
   ]
  },
  {
   "cell_type": "code",
   "execution_count": 64,
   "metadata": {},
   "outputs": [],
   "source": [
    "test_file = \"/home/os/pro/midi2hands/data/Bach-ItalienischesKonzert.mid\"\n",
    "midi_file = MidiFile(test_file)"
   ]
  },
  {
   "cell_type": "code",
   "execution_count": 65,
   "metadata": {},
   "outputs": [
    {
     "name": "stdout",
     "output_type": "stream",
     "text": [
      "The song has 2 tracks\n"
     ]
    }
   ],
   "source": [
    "print(f\"The song has {len(midi_file.tracks)} tracks\")"
   ]
  },
  {
   "cell_type": "code",
   "execution_count": 66,
   "metadata": {},
   "outputs": [
    {
     "name": "stdout",
     "output_type": "stream",
     "text": [
      "Track Rechts 16 has 2830 messages\n",
      "Track Links 16 has 2194 messages\n"
     ]
    }
   ],
   "source": [
    "for track in midi_file.tracks:\n",
    "    print(f\"Track {track.name} has {len(track)} messages\")"
   ]
  },
  {
   "cell_type": "markdown",
   "metadata": {},
   "source": [
    "## Midi files\n",
    "Midi files are a type of file that contains music data.\n",
    "- Midi files contain events that describe the music, such as note-on, note-off. \n",
    "- Each event has a timestamp, which is relative to the previous event.\n",
    "\n",
    "We want to extract the events from the midi files and convert them to a format that can be used for training a neural network."
   ]
  },
  {
   "cell_type": "code",
   "execution_count": 67,
   "metadata": {},
   "outputs": [],
   "source": [
    "\n",
    "class NoteEvent:\n",
    "    def __init__(self, note: int, velocity: int, start: int, hand: str = None):\n",
    "        self.note = note\n",
    "        self.velocity = velocity\n",
    "        self.start = start\n",
    "        self.end = None\n",
    "        self.hand = hand\n",
    "\n",
    "    def set_end(self, end):\n",
    "        self.end = end\n",
    "\n",
    "class MidiEventProcessor:\n",
    "    \"\"\"\n",
    "    The purpose of this class is to extract note events from a midi file.\n",
    "    The extract_note_events method returns a list of NoteEvent objects.\n",
    "    \"\"\"\n",
    "    def __init__(self):\n",
    "        self.note_events: list[NoteEvent] = []\n",
    "\n",
    "    def _create_note_event(self, active_notes, midi_message, timestamp, hand: str):\n",
    "        note_event = NoteEvent(midi_message.note, midi_message.velocity, timestamp, hand)\n",
    "        active_notes[midi_message.note] = note_event\n",
    "\n",
    "    def _process_note_off_event(self, note_events, active_notes, midi_message, timestamp):\n",
    "        note_event = active_notes.get(midi_message.note)\n",
    "        if note_event and note_event.end is None:\n",
    "            note_event.set_end(timestamp)\n",
    "            note_events.append(note_event)\n",
    "            active_notes[midi_message.note] = None\n",
    "\n",
    "    def _process_midi_track(self, note_events: list, midi_track, hand: str):\n",
    "        cumulative_time = 0  \n",
    "        active_notes = {}\n",
    "        for _, midi_message in enumerate(midi_track):\n",
    "            cumulative_time += midi_message.time\n",
    "            if midi_message.type == \"note_on\":\n",
    "                self._create_note_event(active_notes, midi_message, cumulative_time, hand)\n",
    "            elif midi_message.type == \"note_off\":\n",
    "                self._process_note_off_event(note_events, active_notes, midi_message, cumulative_time)\n",
    "\n",
    "    def _extract_and_process_midi_tracks(self, midi_file_path) -> list[NoteEvent]:\n",
    "        note_events = []\n",
    "        midi_file = MidiFile(midi_file_path)\n",
    "        for i, midi_track in enumerate(midi_file.tracks):\n",
    "            hand = \"right\" if i == 1 else \"left\"\n",
    "            self._process_midi_track(note_events, midi_track, hand)\n",
    "        return sorted(note_events, key=lambda x: x.start)\n",
    "\n",
    "    def extract_note_events(self, midi_file_path: Path) -> list[NoteEvent]:\n",
    "        return self._extract_and_process_midi_tracks(midi_file_path)"
   ]
  },
  {
   "cell_type": "code",
   "execution_count": 68,
   "metadata": {},
   "outputs": [
    {
     "data": {
      "text/plain": [
       "[<__main__.NoteEvent at 0x76aecc1786d0>,\n",
       " <__main__.NoteEvent at 0x76aecc178730>,\n",
       " <__main__.NoteEvent at 0x76aecc178790>]"
      ]
     },
     "execution_count": 68,
     "metadata": {},
     "output_type": "execute_result"
    }
   ],
   "source": [
    "mp = MidiEventProcessor()\n",
    "# the events are now sorted by the start time\n",
    "events = mp.extract_note_events(Path(test_file))\n",
    "events[:3]"
   ]
  },
  {
   "cell_type": "markdown",
   "metadata": {},
   "source": [
    "## Preprocessing\n",
    "Here are multiple ways to represent the events in a window:\n",
    "- unidirectional? Only take the past events into account.\n",
    "    - This is the simplest approach.\n",
    "    - Will not be needed for the final model, since it will only be used with pre recorded data.\n",
    "- bidirectional? Take both the past and future events into account.\n",
    "    - Using masked pretraining like a BERT style model?\n",
    "- Using a windowed approach?\n",
    "    - Be careful when splitting the data into train test splits.\n",
    "- one label per window or one label per event?\n",
    "    - Given seuqnece should one value be outputted or multiple values?\n",
    "    - Output at each time step or only at the end of the sequence?\n",
    "- should right hand and left hand be used as a feature?"
   ]
  },
  {
   "cell_type": "code",
   "execution_count": 69,
   "metadata": {},
   "outputs": [],
   "source": [
    "def preprocess_window(window: list[NoteEvent]):\n",
    "    \"\"\" Convert the list of notes to a numpy array, also normalize the start times \"\"\"\n",
    "    window = np.array([(n.note, n.velocity, n.start) for n in window], dtype=np.float32)\n",
    "    window[:, 2] = window[:, 2] / window[-1, 2]\n",
    "    return window\n",
    "\n",
    "def extract_windows_and_labels(events, window_size, step_size, bidirectional=False):\n",
    "    windows = []\n",
    "    labels = []\n",
    "    for i in range(0, len(events) - window_size, step_size):\n",
    "        window = events[i:i + window_size]\n",
    "        windows.append(preprocess_window(window))\n",
    "        if bidirectional:\n",
    "            n: NoteEvent = window[window_size // 2]\n",
    "            label = 0 if n.hand == \"left\" else 1\n",
    "            labels.append(label)\n",
    "        else:\n",
    "            n: NoteEvent = window[-1]\n",
    "            label = 0 if n.hand == \"left\" else 1\n",
    "            labels.append(label)\n",
    "    return windows, labels"
   ]
  },
  {
   "cell_type": "code",
   "execution_count": 70,
   "metadata": {},
   "outputs": [
    {
     "name": "stdout",
     "output_type": "stream",
     "text": [
      "number of windows: 2472\n",
      "window shape: (30, 3)\n",
      "window label: 0\n"
     ]
    }
   ],
   "source": [
    "windows, labels = extract_windows_and_labels(events, window_size=30, step_size=1, bidirectional=False)\n",
    "\n",
    "print(f\"number of windows: {len(windows)}\")\n",
    "print(f\"window shape: {windows[0].shape}\")\n",
    "print(f\"window label: {labels[0]}\")"
   ]
  },
  {
   "cell_type": "code",
   "execution_count": 71,
   "metadata": {},
   "outputs": [
    {
     "name": "stderr",
     "output_type": "stream",
     "text": [
      "100%|██████████| 122/122 [00:11<00:00, 11.05it/s]\n"
     ]
    },
    {
     "name": "stdout",
     "output_type": "stream",
     "text": [
      "(339667, 30, 3)\n",
      "(339667,)\n"
     ]
    }
   ],
   "source": [
    "# now we want to extract windows from all files\n",
    "import os\n",
    "mp = MidiEventProcessor()\n",
    "\n",
    "all_windows = []\n",
    "all_labels = []\n",
    "\n",
    "for file in tqdm(os.listdir(\"data\")):\n",
    "    if not file.endswith(\".mid\"):\n",
    "        continue\n",
    "    path = os.path.join(\"data\", file)\n",
    "    # extract events\n",
    "    events = mp.extract_note_events(Path(path))\n",
    "    # convert to windows and labels\n",
    "    windows, labels = extract_windows_and_labels(events, window_size=30, step_size=1, bidirectional=False)\n",
    "    all_windows.extend(windows)\n",
    "    all_labels.extend(labels)\n",
    "    # concatenate\n",
    "\n",
    "all_windows = np.array(all_windows)\n",
    "all_labels = np.array(all_labels)\n",
    "\n",
    "print(all_windows.shape)\n",
    "print(all_labels.shape)\n",
    "\n"
   ]
  },
  {
   "cell_type": "code",
   "execution_count": 72,
   "metadata": {},
   "outputs": [
    {
     "name": "stdout",
     "output_type": "stream",
     "text": [
      "484 484\n"
     ]
    }
   ],
   "source": [
    "print(len(windows), len(labels))"
   ]
  },
  {
   "cell_type": "code",
   "execution_count": 73,
   "metadata": {},
   "outputs": [],
   "source": [
    "class MidiDataset:\n",
    "    def __init__(self, windows, labels):\n",
    "        self.windows = windows\n",
    "        self.labels = labels\n",
    "\n",
    "    def __len__(self):\n",
    "        return len(self.windows)\n",
    "\n",
    "    def __getitem__(self, idx):\n",
    "        return self.windows[idx], self.labels[idx]"
   ]
  },
  {
   "cell_type": "code",
   "execution_count": 74,
   "metadata": {},
   "outputs": [],
   "source": [
    "# create a data loader\n",
    "from torch.utils.data import DataLoader, random_split\n",
    "\n",
    "batch_size = 64\n",
    "dataset = MidiDataset(all_windows, all_labels)\n",
    "train_dataset, val_dataset = random_split(dataset, [0.8, 0.2])\n",
    "# split dataset in train and validation\n",
    "train_loader = DataLoader(dataset, batch_size=batch_size, shuffle=True)\n",
    "val_loader = DataLoader(dataset, batch_size=batch_size, shuffle=True)"
   ]
  },
  {
   "cell_type": "code",
   "execution_count": 75,
   "metadata": {},
   "outputs": [
    {
     "name": "stdout",
     "output_type": "stream",
     "text": [
      "torch.Size([64, 1])\n",
      "torch.Size([64, 1])\n"
     ]
    }
   ],
   "source": [
    "import torch\n",
    "from torch import nn\n",
    "\n",
    "device = torch.device(\"cuda\" if torch.cuda.is_available() else \"cpu\")\n",
    "\n",
    "class LSTMModel(nn.Module):\n",
    "    def __init__(self, input_size, hidden_size, num_layers, num_classes):\n",
    "        super(LSTMModel, self).__init__()\n",
    "        self.hidden_size = hidden_size\n",
    "        self.num_layers = num_layers\n",
    "        self.lstm = nn.LSTM(input_size, hidden_size, num_layers, batch_first=True)\n",
    "        self.fc = nn.Linear(hidden_size, num_classes)\n",
    "\n",
    "    def forward(self, x):\n",
    "        h0 = torch.zeros(self.num_layers, x.size(0), self.hidden_size).to(device)\n",
    "        c0 = torch.zeros(self.num_layers, x.size(0), self.hidden_size).to(device)\n",
    "        out, _ = self.lstm(x, (h0, c0))\n",
    "        out = self.fc(out[:, -1, :])\n",
    "        return out\n",
    "\n",
    "model = LSTMModel(input_size=3, hidden_size=16, num_layers=2, num_classes=1).to(device)\n",
    "\n",
    "example = next(iter(train_loader))\n",
    "events = example[0].to(device)\n",
    "print(model(events).shape)\n",
    "print(example[1].unsqueeze(1).shape)"
   ]
  },
  {
   "cell_type": "code",
   "execution_count": 76,
   "metadata": {},
   "outputs": [],
   "source": [
    "# hyperparameters\n",
    "num_epochs = 20\n",
    "input_size = 3\n",
    "hidden_size = 16\n",
    "num_layers = 2\n",
    "num_classes = 1"
   ]
  },
  {
   "cell_type": "code",
   "execution_count": 77,
   "metadata": {},
   "outputs": [
    {
     "name": "stderr",
     "output_type": "stream",
     "text": [
      "  0%|          | 0/5308 [00:00<?, ?batch/s]"
     ]
    },
    {
     "name": "stderr",
     "output_type": "stream",
     "text": [
      "100%|██████████| 5308/5308 [00:08<00:00, 618.55batch/s]\n",
      "100%|██████████| 5308/5308 [00:08<00:00, 621.59batch/s]\n",
      "100%|██████████| 5308/5308 [00:08<00:00, 616.24batch/s]\n",
      "100%|██████████| 5308/5308 [00:08<00:00, 606.01batch/s]\n",
      "100%|██████████| 5308/5308 [00:08<00:00, 604.65batch/s]\n",
      "100%|██████████| 5308/5308 [00:08<00:00, 606.10batch/s]\n",
      "100%|██████████| 5308/5308 [00:08<00:00, 605.73batch/s]\n",
      "100%|██████████| 5308/5308 [00:08<00:00, 604.66batch/s]\n",
      "100%|██████████| 5308/5308 [00:08<00:00, 605.81batch/s]\n",
      "100%|██████████| 5308/5308 [00:08<00:00, 605.92batch/s]\n",
      "100%|██████████| 5308/5308 [00:08<00:00, 605.44batch/s]\n",
      "100%|██████████| 5308/5308 [00:08<00:00, 605.92batch/s]\n",
      "100%|██████████| 5308/5308 [00:08<00:00, 606.06batch/s]\n",
      "100%|██████████| 5308/5308 [00:08<00:00, 606.22batch/s]\n",
      "100%|██████████| 5308/5308 [00:08<00:00, 605.90batch/s]\n",
      "100%|██████████| 5308/5308 [00:08<00:00, 605.68batch/s]\n",
      "100%|██████████| 5308/5308 [00:08<00:00, 611.77batch/s]\n",
      "100%|██████████| 5308/5308 [00:08<00:00, 611.82batch/s]\n",
      "100%|██████████| 5308/5308 [00:08<00:00, 623.63batch/s]\n",
      "100%|██████████| 5308/5308 [00:08<00:00, 615.29batch/s]\n"
     ]
    }
   ],
   "source": [
    "\n",
    "# model\n",
    "model = LSTMModel(input_size, hidden_size, num_layers, num_classes).to(device)\n",
    "\n",
    "# Loss and optimizer\n",
    "criterion = nn.BCEWithLogitsLoss()\n",
    "optimizer = torch.optim.Adam(model.parameters(), lr=0.001)\n",
    "\n",
    "losses = []\n",
    "accuracies = []\n",
    "val_accuracies = []\n",
    "all_acc = []\n",
    "\n",
    "def accuracy(y_true: list[int], y_pred: list[int]):\n",
    "    return np.mean(np.array(y_true) == np.array(y_pred))\n",
    "\n",
    "\n",
    "for epoch in range(num_epochs):\n",
    "    epoch_losses = []\n",
    "    y_true = []\n",
    "    y_pred = []\n",
    "    for i, (windows, labels) in tqdm(enumerate(train_loader), total=len(train_loader), unit=\"batch\"):\n",
    "        windows = windows.to(device)\n",
    "        labels = labels.unsqueeze(1).float().to(device)\n",
    "\n",
    "        # Forward pass\n",
    "        outputs = model(windows)\n",
    "        loss = criterion(outputs, labels)\n",
    "\n",
    "        y_t = list(labels.squeeze().cpu().numpy().astype(int))\n",
    "\n",
    "        y_p = torch.sigmoid(outputs).squeeze().cpu().detach().numpy()\n",
    "        y_p = list(np.where(y_p > 0.5, 1, 0))\n",
    "\n",
    "        all_acc.append(accuracy(y_t, y_p))\n",
    "\n",
    "        y_true.extend(y_t)\n",
    "        y_pred.extend(y_p)\n",
    "\n",
    "        # Backward and optimize\n",
    "        optimizer.zero_grad()\n",
    "        loss.backward()\n",
    "        optimizer.step()\n",
    "\n",
    "        epoch_losses.append(loss.item())\n",
    "\n",
    "    losses.append(np.mean(epoch_losses))\n",
    "    accuracies.append(accuracy(y_true, y_pred))\n",
    "\n",
    "    # validation\n",
    "    y_true = []\n",
    "    y_pred = []\n",
    "    for i, (windows, labels) in enumerate(val_loader):\n",
    "        windows = windows.to(device)\n",
    "        labels = labels.unsqueeze(1).float().to(device)\n",
    "\n",
    "        outputs = model(windows)\n",
    "        y_t = list(labels.squeeze().cpu().numpy().astype(int))\n",
    "\n",
    "        y_p = torch.sigmoid(outputs).squeeze().cpu().detach().numpy()\n",
    "        y_p = list(np.where(y_p > 0.5, 1, 0))\n",
    "\n",
    "        y_true.extend(y_t)\n",
    "        y_pred.extend(y_p)\n",
    "\n",
    "    val_accuracies.append(accuracy(y_true, y_pred))\n"
   ]
  },
  {
   "cell_type": "code",
   "execution_count": 78,
   "metadata": {},
   "outputs": [
    {
     "data": {
      "text/plain": [
       "[<matplotlib.lines.Line2D at 0x76ad44328ca0>]"
      ]
     },
     "execution_count": 78,
     "metadata": {},
     "output_type": "execute_result"
    },
    {
     "data": {
      "image/png": "[encoded data removed]",
      "text/plain": [
       "<Figure size 640x480 with 1 Axes>"
      ]
     },
     "metadata": {},
     "output_type": "display_data"
    }
   ],
   "source": [
    "import matplotlib.pyplot as plt\n",
    "plt.plot(losses)"
   ]
  },
  {
   "cell_type": "code",
   "execution_count": 79,
   "metadata": {},
   "outputs": [
    {
     "data": {
      "text/plain": [
       "<matplotlib.legend.Legend at 0x76aecc2c20b0>"
      ]
     },
     "execution_count": 79,
     "metadata": {},
     "output_type": "execute_result"
    },
    {
     "data": {
      "image/png": "[encoded data removed]",
      "text/plain": [
       "<Figure size 640x480 with 1 Axes>"
      ]
     },
     "metadata": {},
     "output_type": "display_data"
    }
   ],
   "source": [
    "fig, ax = plt.subplots()\n",
    "\n",
    "ax.plot(accuracies, label=\"train\")\n",
    "ax.plot(val_accuracies, label=\"val\")\n",
    "ax.legend()\n",
    "\n"
   ]
  },
  {
   "cell_type": "code",
   "execution_count": null,
   "metadata": {},
   "outputs": [],
   "source": []
  }
 ],
 "metadata": {
  "kernelspec": {
   "display_name": "venv",
   "language": "python",
   "name": "python3"
  },
  "language_info": {
   "codemirror_mode": {
    "name": "ipython",
    "version": 3
   },
   "file_extension": ".py",
   "mimetype": "text/x-python",
   "name": "python",
   "nbconvert_exporter": "python",
   "pygments_lexer": "ipython3",
   "version": "3.10.12"
  }
 },
 "nbformat": 4,
 "nbformat_minor": 2
}
