{
 "cells": [
  {
   "cell_type": "code",
   "execution_count": 56,
   "metadata": {},
   "outputs": [],
   "source": [
    "import numpy as np\n",
    "from tqdm import tqdm\n",
    "from mido.midifiles.midifiles import MidiFile\n",
    "from pathlib import Path"
   ]
  },
  {
   "cell_type": "code",
   "execution_count": 57,
   "metadata": {},
   "outputs": [],
   "source": [
    "test_file = \"/home/os/pro/midi2hands/data/Bach-ItalienischesKonzert.mid\"\n",
    "midi_file = MidiFile(test_file)"
   ]
  },
  {
   "cell_type": "code",
   "execution_count": 58,
   "metadata": {},
   "outputs": [
    {
     "name": "stdout",
     "output_type": "stream",
     "text": [
      "The song has 2 tracks\n"
     ]
    }
   ],
   "source": [
    "print(f\"The song has {len(midi_file.tracks)} tracks\")"
   ]
  },
  {
   "cell_type": "code",
   "execution_count": 59,
   "metadata": {},
   "outputs": [
    {
     "name": "stdout",
     "output_type": "stream",
     "text": [
      "Track Rechts 16 has 2830 messages\n",
      "Track Links 16 has 2194 messages\n"
     ]
    }
   ],
   "source": [
    "for track in midi_file.tracks:\n",
    "    print(f\"Track {track.name} has {len(track)} messages\")"
   ]
  },
  {
   "cell_type": "code",
   "execution_count": 70,
   "metadata": {},
   "outputs": [],
   "source": [
    "\n",
    "class NoteEvent:\n",
    "    def __init__(self, note: int, velocity: int, start: int, hand: str = None):\n",
    "        self.note = note\n",
    "        self.velocity = velocity\n",
    "        self.start = start\n",
    "        self.end = None\n",
    "        self.hand = hand\n",
    "\n",
    "    def set_end(self, end):\n",
    "        self.end = end\n",
    "\n",
    "class MidiEventProcessor:\n",
    "    \"\"\"\n",
    "    The purpose of this class is to extract note events from a midi file.\n",
    "    The extract_note_events method returns a list of NoteEvent objects.\n",
    "    \"\"\"\n",
    "    def __init__(self):\n",
    "        self.note_events: list[NoteEvent] = []\n",
    "\n",
    "    def _create_note_event(self, active_notes, midi_message, timestamp, hand: str):\n",
    "        note_event = NoteEvent(midi_message.note, midi_message.velocity, timestamp, hand)\n",
    "        active_notes[midi_message.note] = note_event\n",
    "\n",
    "    def _process_note_off_event(self, active_notes, midi_message, timestamp):\n",
    "        note_event = active_notes.get(midi_message.note)\n",
    "        if note_event and note_event.end is None:\n",
    "            note_event.set_end(timestamp)\n",
    "            self.note_events.append(note_event)\n",
    "            active_notes[midi_message.note] = None\n",
    "\n",
    "    def _process_midi_track(self, midi_track, hand: str):\n",
    "        cumulative_time = 0  \n",
    "        active_notes = {}\n",
    "        for _, midi_message in enumerate(midi_track):\n",
    "            cumulative_time += midi_message.time\n",
    "            if midi_message.type == \"note_on\":\n",
    "                self._create_note_event(active_notes, midi_message, cumulative_time, hand)\n",
    "            elif midi_message.type == \"note_off\":\n",
    "                self._process_note_off_event(active_notes, midi_message, cumulative_time)\n",
    "\n",
    "    def _extract_and_process_midi_tracks(self, midi_file_path):\n",
    "        midi_file = MidiFile(midi_file_path)\n",
    "        for i, midi_track in enumerate(midi_file.tracks):\n",
    "            print(f\"Processing track {i}\")\n",
    "            hand = \"right\" if i == 0 else \"left\"\n",
    "            self._process_midi_track(midi_track, hand)\n",
    "        self.note_events = sorted(self.note_events, key=lambda x: x.start)\n",
    "\n",
    "    def extract_note_events(self, midi_file_path: Path) -> list[NoteEvent]:\n",
    "        self._extract_and_process_midi_tracks(midi_file_path)\n",
    "        return self.note_events"
   ]
  },
  {
   "cell_type": "code",
   "execution_count": 71,
   "metadata": {},
   "outputs": [
    {
     "name": "stdout",
     "output_type": "stream",
     "text": [
      "Processing track 0\n",
      "Processing track 1\n"
     ]
    },
    {
     "data": {
      "text/plain": [
       "[<__main__.NoteEvent at 0x7f7e043fef50>,\n",
       " <__main__.NoteEvent at 0x7f7e043fefb0>,\n",
       " <__main__.NoteEvent at 0x7f7e043ff010>]"
      ]
     },
     "execution_count": 71,
     "metadata": {},
     "output_type": "execute_result"
    }
   ],
   "source": [
    "mp = MidiEventProcessor()\n",
    "# the events are now sorted by the start time\n",
    "events = mp.extract_note_events(Path(test_file))\n",
    "events[:3]"
   ]
  },
  {
   "cell_type": "code",
   "execution_count": 8,
   "metadata": {},
   "outputs": [],
   "source": [
    "# extract windows and lables for each window\n",
    "# if the model is bidirectional, the label should be the middle index of the window\n",
    "# if the model is unidirectional, the label should be the last index of the window\n",
    "def preprocess_window(window: list[NoteEvent]):\n",
    "    \"\"\" Convert the list of notes to a numpy array, also normalize the start times \"\"\"\n",
    "    window = np.array([(n.note, n.velocity, n.start) for n in window], dtype=np.float32)\n",
    "    # use beta scaling to normalize the start times\n",
    "    window[:, 2] = window[:, 2] / window[-1, 2]\n",
    "    return window\n",
    "\n",
    "def extract_windows_and_labels(events, window_size, step_size, bidirectional=False):\n",
    "    windows = []\n",
    "    labels = []\n",
    "    for i in range(0, len(events) - window_size, step_size):\n",
    "        window = events[i:i + window_size]\n",
    "        windows.append(preprocess_window(window))\n",
    "        if bidirectional:\n",
    "            n: NoteEvent = window[window_size // 2]\n",
    "            label = 0 if n.hand == \"left\" else 1\n",
    "            labels.append(label)\n",
    "        else:\n",
    "            n: NoteEvent = window[-1]\n",
    "            label = 0 if n.hand == \"left\" else 1\n",
    "            labels.append(label)\n",
    "    return windows, labels"
   ]
  },
  {
   "cell_type": "code",
   "execution_count": 69,
   "metadata": {},
   "outputs": [
    {
     "name": "stdout",
     "output_type": "stream",
     "text": [
      "window shape: (30, 3)\n",
      "window label: 1\n"
     ]
    }
   ],
   "source": [
    "windows, labels = extract_windows_and_labels(events, window_size=30, step_size=1, bidirectional=False)\n",
    "\n",
    "print(f\"window shape: {windows[0].shape}\")\n",
    "print(f\"window label: {labels[0]}\")"
   ]
  },
  {
   "cell_type": "code",
   "execution_count": null,
   "metadata": {},
   "outputs": [],
   "source": [
    "def "
   ]
  },
  {
   "cell_type": "code",
   "execution_count": 10,
   "metadata": {},
   "outputs": [
    {
     "name": "stdout",
     "output_type": "stream",
     "text": [
      "2472 2472\n"
     ]
    }
   ],
   "source": [
    "print(len(windows), len(labels))"
   ]
  },
  {
   "cell_type": "code",
   "execution_count": 11,
   "metadata": {},
   "outputs": [],
   "source": [
    "class MidiDataset:\n",
    "    def __init__(self, windows, labels):\n",
    "        self.windows = windows\n",
    "        self.labels = labels\n",
    "\n",
    "    def __len__(self):\n",
    "        return len(self.windows)\n",
    "\n",
    "    def __getitem__(self, idx):\n",
    "        return self.windows[idx], self.labels[idx]"
   ]
  },
  {
   "cell_type": "code",
   "execution_count": 12,
   "metadata": {},
   "outputs": [],
   "source": [
    "# create a data loader\n",
    "from torch.utils.data import DataLoader\n",
    "\n",
    "dataset = MidiDataset(windows, labels)\n",
    "dataloader = DataLoader(dataset, batch_size=32, shuffle=True)"
   ]
  },
  {
   "cell_type": "code",
   "execution_count": 50,
   "metadata": {},
   "outputs": [
    {
     "name": "stdout",
     "output_type": "stream",
     "text": [
      "torch.Size([32, 1])\n",
      "torch.Size([32, 1])\n"
     ]
    }
   ],
   "source": [
    "import torch\n",
    "from torch import nn\n",
    "\n",
    "device = torch.device(\"cuda\" if torch.cuda.is_available() else \"cpu\")\n",
    "\n",
    "class LSTMModel(nn.Module):\n",
    "    def __init__(self, input_size, hidden_size, num_layers, num_classes):\n",
    "        super(LSTMModel, self).__init__()\n",
    "        self.hidden_size = hidden_size\n",
    "        self.num_layers = num_layers\n",
    "        self.lstm = nn.LSTM(input_size, hidden_size, num_layers, batch_first=True)\n",
    "        self.fc = nn.Linear(hidden_size, num_classes)\n",
    "\n",
    "    def forward(self, x):\n",
    "        h0 = torch.zeros(self.num_layers, x.size(0), self.hidden_size).to(device)\n",
    "        c0 = torch.zeros(self.num_layers, x.size(0), self.hidden_size).to(device)\n",
    "        out, _ = self.lstm(x, (h0, c0))\n",
    "        out = self.fc(out[:, -1, :])\n",
    "        return out\n",
    "\n",
    "input_size = 3\n",
    "hidden_size = 16\n",
    "num_layers = 2\n",
    "num_classes = 1\n",
    "model = LSTMModel(input_size, hidden_size, num_layers, num_classes).to(device)\n",
    "\n",
    "example = next(iter(dataloader))\n",
    "events = example[0].to(device)\n",
    "print(model(events).shape)\n",
    "print(example[1].unsqueeze(1).shape)"
   ]
  },
  {
   "cell_type": "code",
   "execution_count": 53,
   "metadata": {},
   "outputs": [
    {
     "name": "stderr",
     "output_type": "stream",
     "text": [
      "100%|██████████| 100/100 [00:11<00:00,  8.46it/s]\n"
     ]
    }
   ],
   "source": [
    "\n",
    "# Loss and optimizer\n",
    "criterion = nn.BCEWithLogitsLoss()\n",
    "optimizer = torch.optim.Adam(model.parameters(), lr=0.001)\n",
    "\n",
    "# Train the model\n",
    "total_step = len(dataloader)\n",
    "num_epochs = 100\n",
    "\n",
    "losses = []\n",
    "accuracies = []\n",
    "\n",
    "def accuracy(y_true: list[int], y_pred: list[int]):\n",
    "    return np.mean(np.array(y_true) == np.array(y_pred))\n",
    "\n",
    "\n",
    "for epoch in tqdm(range(num_epochs)):\n",
    "    epoch_losses = []\n",
    "    y_true = []\n",
    "    y_pred = []\n",
    "    for i, (windows, labels) in enumerate(dataloader):\n",
    "        windows = windows.to(device)\n",
    "        labels = labels.unsqueeze(1).float().to(device)\n",
    "\n",
    "        # Forward pass\n",
    "        outputs = model(windows)\n",
    "        loss = criterion(outputs, labels)\n",
    "\n",
    "        y_t = list(labels.squeeze().cpu().numpy().astype(int))\n",
    "\n",
    "        y_p = torch.sigmoid(outputs).squeeze().cpu().detach().numpy()\n",
    "        y_p = list(np.where(y_p > 0.5, 1, 0))\n",
    "\n",
    "        y_true.extend(y_t)\n",
    "        y_pred.extend(y_p)\n",
    "\n",
    "        # Backward and optimize\n",
    "        optimizer.zero_grad()\n",
    "        loss.backward()\n",
    "        optimizer.step()\n",
    "\n",
    "        epoch_losses.append(loss.item())\n",
    "\n",
    "    losses.append(np.mean(epoch_losses))\n",
    "    accuracies.append(accuracy(y_true, y_pred))\n",
    "    #     if (i + 1) % 100 == 0:\n",
    "    #         print(f\"Epoch [{epoch + 1}/{num_epochs}], Step [{i + 1}/{total_step}], Loss: {loss.item()}\")\n",
    "    # print(f\"Epoch [{epoch + 1}/{num_epochs}], Loss: {loss.item()}\")\n"
   ]
  },
  {
   "cell_type": "code",
   "execution_count": 54,
   "metadata": {},
   "outputs": [
    {
     "data": {
      "text/plain": [
       "[<matplotlib.lines.Line2D at 0x7f7c90138ca0>]"
      ]
     },
     "execution_count": 54,
     "metadata": {},
     "output_type": "execute_result"
    },
    {
     "data": {
      "image/png": "[encoded data removed]",
      "text/plain": [
       "<Figure size 640x480 with 1 Axes>"
      ]
     },
     "metadata": {},
     "output_type": "display_data"
    }
   ],
   "source": [
    "import matplotlib.pyplot as plt\n",
    "plt.plot(losses)"
   ]
  },
  {
   "cell_type": "code",
   "execution_count": 55,
   "metadata": {},
   "outputs": [
    {
     "data": {
      "text/plain": [
       "[<matplotlib.lines.Line2D at 0x7f7c90dce380>]"
      ]
     },
     "execution_count": 55,
     "metadata": {},
     "output_type": "execute_result"
    },
    {
     "data": {
      "image/png": "[encoded data removed]",
      "text/plain": [
       "<Figure size 640x480 with 1 Axes>"
      ]
     },
     "metadata": {},
     "output_type": "display_data"
    }
   ],
   "source": [
    "plt.plot(accuracies)"
   ]
  }
 ],
 "metadata": {
  "kernelspec": {
   "display_name": "venv",
   "language": "python",
   "name": "python3"
  },
  "language_info": {
   "codemirror_mode": {
    "name": "ipython",
    "version": 3
   },
   "file_extension": ".py",
   "mimetype": "text/x-python",
   "name": "python",
   "nbconvert_exporter": "python",
   "pygments_lexer": "ipython3",
   "version": "3.10.12"
  }
 },
 "nbformat": 4,
 "nbformat_minor": 2
}
