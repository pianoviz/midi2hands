{
 "cells": [
  {
   "cell_type": "code",
   "execution_count": 1,
   "metadata": {},
   "outputs": [],
   "source": [
    "import numpy as np\n",
    "from tqdm import tqdm\n",
    "from mido.midifiles.midifiles import MidiFile\n",
    "from pathlib import Path"
   ]
  },
  {
   "cell_type": "code",
   "execution_count": 2,
   "metadata": {},
   "outputs": [],
   "source": [
    "test_file = \"/Users/oscar/pro/midi2hands/data/train/000-BachJS-FrzSuite1_AlCourSarGig.mid\"\n",
    "midi_file = MidiFile(test_file)"
   ]
  },
  {
   "cell_type": "code",
   "execution_count": 3,
   "metadata": {},
   "outputs": [
    {
     "data": {
      "text/plain": [
       "480"
      ]
     },
     "execution_count": 3,
     "metadata": {},
     "output_type": "execute_result"
    }
   ],
   "source": [
    "midi_file.ticks_per_beat"
   ]
  },
  {
   "cell_type": "code",
   "execution_count": 4,
   "metadata": {},
   "outputs": [
    {
     "name": "stdout",
     "output_type": "stream",
     "text": [
      "The song has 2 tracks\n"
     ]
    }
   ],
   "source": [
    "print(f\"The song has {len(midi_file.tracks)} tracks\")"
   ]
  },
  {
   "cell_type": "code",
   "execution_count": 5,
   "metadata": {},
   "outputs": [
    {
     "name": "stdout",
     "output_type": "stream",
     "text": [
      "Track Rechts 13 has 2639 messages\n",
      "Track Links 13 has 1751 messages\n"
     ]
    }
   ],
   "source": [
    "for track in midi_file.tracks:\n",
    "    print(f\"Track {track.name} has {len(track)} messages\")"
   ]
  },
  {
   "cell_type": "markdown",
   "metadata": {},
   "source": [
    "## Midi files\n",
    "Midi files are a type of file that contains music data.\n",
    "- Midi files contain events that describe the music, such as note-on, note-off. \n",
    "- Each event has a timestamp, which is relative to the previous event.\n",
    "\n",
    "We want to extract the events from the midi files and convert them to a format that can be used for training a neural network."
   ]
  },
  {
   "cell_type": "code",
   "execution_count": 6,
   "metadata": {},
   "outputs": [],
   "source": [
    "\n",
    "class NoteEvent:\n",
    "    def __init__(self, note: int, velocity: int, start: int, hand: str = None):\n",
    "        self.note = note\n",
    "        self.velocity = velocity\n",
    "        self.start = start\n",
    "        self.end = None\n",
    "        self.hand = hand\n",
    "\n",
    "    def set_end(self, end):\n",
    "        self.end = end\n",
    "\n",
    "class MidiEventProcessor:\n",
    "    \"\"\"\n",
    "    The purpose of this class is to extract note events from a midi file.\n",
    "    The extract_note_events method returns a list of NoteEvent objects.\n",
    "    \"\"\"\n",
    "    def __init__(self):\n",
    "        self.note_events: list[NoteEvent] = []\n",
    "\n",
    "    def _create_note_event(self, active_notes, midi_message, timestamp, hand: str):\n",
    "        note_event = NoteEvent(midi_message.note, midi_message.velocity, timestamp, hand)\n",
    "        active_notes[midi_message.note] = note_event\n",
    "\n",
    "    def _process_note_off_event(self, note_events, active_notes, midi_message, timestamp):\n",
    "        note_event = active_notes.get(midi_message.note)\n",
    "        if note_event and note_event.end is None:\n",
    "            note_event.set_end(timestamp)\n",
    "            note_events.append(note_event)\n",
    "            active_notes[midi_message.note] = None\n",
    "\n",
    "    def _process_midi_track(self, note_events: list, midi_track, hand: str):\n",
    "        cumulative_time = 0  \n",
    "        active_notes = {}\n",
    "        for _, midi_message in enumerate(midi_track):\n",
    "            cumulative_time += midi_message.time\n",
    "            if midi_message.type == \"note_on\":\n",
    "                self._create_note_event(active_notes, midi_message, cumulative_time, hand)\n",
    "            elif midi_message.type == \"note_off\":\n",
    "                self._process_note_off_event(note_events, active_notes, midi_message, cumulative_time)\n",
    "\n",
    "    def _extract_and_process_midi_tracks(self, midi_file_path) -> list[NoteEvent]:\n",
    "        note_events = []\n",
    "        midi_file = MidiFile(midi_file_path)\n",
    "        for i, midi_track in enumerate(midi_file.tracks):\n",
    "            hand = \"right\" if i == 1 else \"left\"\n",
    "            self._process_midi_track(note_events, midi_track, hand)\n",
    "        return sorted(note_events, key=lambda x: x.start)\n",
    "\n",
    "    def extract_note_events(self, midi_file_path: Path) -> list[NoteEvent]:\n",
    "        return self._extract_and_process_midi_tracks(midi_file_path)"
   ]
  },
  {
   "cell_type": "code",
   "execution_count": 39,
   "metadata": {},
   "outputs": [
    {
     "data": {
      "text/plain": [
       "[<__main__.NoteEvent at 0x29c189d80>,\n",
       " <__main__.NoteEvent at 0x29c164040>,\n",
       " <__main__.NoteEvent at 0x29c12b640>]"
      ]
     },
     "execution_count": 39,
     "metadata": {},
     "output_type": "execute_result"
    }
   ],
   "source": [
    "mp = MidiEventProcessor()\n",
    "# the events are now sorted by the start time\n",
    "events = mp.extract_note_events(Path(test_file))\n",
    "events[:3]"
   ]
  },
  {
   "cell_type": "code",
   "execution_count": 40,
   "metadata": {},
   "outputs": [],
   "source": [
    "def to_json(events, output_file_path: Path):\n",
    "    import json\n",
    "    json_events = []\n",
    "    for event in events:\n",
    "        json_events.append({\n",
    "            \"note\": event.note,\n",
    "            \"velocity\": event.velocity,\n",
    "            \"start\": event.start,\n",
    "            \"end\": event.end,\n",
    "            \"hand\": event.hand\n",
    "        })\n",
    "    with open(output_file_path, \"w\") as f:\n",
    "        json.dump(json_events, f)\n",
    "# to_json(events, Path(\"events/Bach-ItalienischesKonzert.json\"))"
   ]
  },
  {
   "cell_type": "markdown",
   "metadata": {},
   "source": [
    "## Preprocessing\n",
    "Here are multiple ways to represent the events in a window:\n",
    "- unidirectional? Only take the past events into account.\n",
    "    - This is the simplest approach.\n",
    "    - Will not be needed for the final model, since it will only be used with pre recorded data.\n",
    "- bidirectional? Take both the past and future events into account.\n",
    "    - Using masked pretraining like a BERT style model?\n",
    "- Using a windowed approach?\n",
    "    - Be careful when splitting the data into train test splits.\n",
    "- one label per window or one label per event?\n",
    "    - Given seuqnece should one value be outputted or multiple values?\n",
    "    - Output at each time step or only at the end of the sequence?\n",
    "- should right hand and left hand be used as a feature?"
   ]
  },
  {
   "cell_type": "code",
   "execution_count": 70,
   "metadata": {},
   "outputs": [],
   "source": [
    "def pad_events(events: list[NoteEvent], window_size: int) -> list[NoteEvent]:\n",
    "    # pad the events with None values\n",
    "    m = window_size // 2\n",
    "    for _ in range(m):\n",
    "        dummy_note = NoteEvent(note=-1, velocity=-1, start=-1, hand=None)\n",
    "        dummy_note.set_end(-1)\n",
    "        events.insert(0, dummy_note)\n",
    "        events.append(dummy_note)\n",
    "    return events\n",
    "\n",
    "\n",
    "def convert_hand_to_number(hand: str):\n",
    "    return (0 if hand == \"left\" else (1 if hand==\"right\" else -1))\n",
    "\n",
    "\n",
    "def preprocess_window(note_events: list[NoteEvent]):\n",
    "    \"\"\"Convert the list of notes to a numpy array, also normalize the start times\"\"\"\n",
    "    def convert(n: NoteEvent): \n",
    "        return (n.note, n.start, n.end, convert_hand_to_number(n.hand))\n",
    "    start_index = 0\n",
    "    for i, n in enumerate(note_events):\n",
    "        if n.start == -1:\n",
    "            left_pad_index = i\n",
    "            notes = note_events[i:]\n",
    "    window = np.array([convert(n) for n in note_events], dtype=np.float32)\n",
    "    if i < len(note_events) // 2:\n",
    "        # move the pitch values so that they correspond to the the 88 notes on a piano and normalize\n",
    "        window[start_index:, 0] = (window[start_index:, 0] - 21) / 88\n",
    "        window[start_index:, 1:-1] = window[start_index:, 1:-1] / window[-1, 2]\n",
    "    else:\n",
    "        # move the pitch values so that they correspond to the the 88 notes on a piano and normalize\n",
    "        window[:start_index, 0] = (window[:start_index, 0] - 21) / 88\n",
    "        window[:start_index, 1:-1] = window[:start_index, 1:-1] / window[start_index-1, 2]\n",
    "\n",
    "    return window\n",
    "\n",
    "\n",
    "\n",
    "def extract_windows_and_labels(events, window_size, step_size):\n",
    "    windows = []\n",
    "    labels = []\n",
    "    for i in range(0, len(events) - window_size, step_size):\n",
    "        window = events[i:i + window_size]\n",
    "        preprocessed_window = preprocess_window(window)\n",
    "        # shape of the window is (window_size, 4)\n",
    "        center_index = window_size // 2\n",
    "        label = convert_hand_to_number(window[center_index].hand)\n",
    "        for i in range(center_index, window_size):\n",
    "            preprocessed_window[i, -1] = -1\n",
    "        windows.append(preprocessed_window)\n",
    "        labels.append(label)\n",
    "    return windows, labels"
   ]
  },
  {
   "cell_type": "code",
   "execution_count": 71,
   "metadata": {},
   "outputs": [
    {
     "data": {
      "text/plain": [
       "array([1, 2, 3, 4, 5, 6, 7, 8])"
      ]
     },
     "execution_count": 71,
     "metadata": {},
     "output_type": "execute_result"
    }
   ],
   "source": [
    "a = np.array([1, 2, 3, 4, 5, 6, 7, 8, 9])\n",
    "a[0:-1]"
   ]
  },
  {
   "cell_type": "code",
   "execution_count": 72,
   "metadata": {},
   "outputs": [
    {
     "name": "stdout",
     "output_type": "stream",
     "text": [
      "number of windows: 1988\n",
      "window shape: (30, 4)\n",
      "window label: 0\n"
     ]
    }
   ],
   "source": [
    "windows, labels = extract_windows_and_labels(events, window_size=30, step_size=1)\n",
    "\n",
    "print(f\"number of windows: {len(windows)}\")\n",
    "print(f\"window shape: {windows[0].shape}\")\n",
    "print(f\"window label: {labels[0]}\")"
   ]
  },
  {
   "cell_type": "code",
   "execution_count": 73,
   "metadata": {},
   "outputs": [
    {
     "name": "stdout",
     "output_type": "stream",
     "text": [
      "Found 110 midi files\n"
     ]
    }
   ],
   "source": [
    "from torch.utils.data import DataLoader, random_split\n",
    "\n",
    "paths = list(Path(\"data/train\").rglob(\"*.mid\"))\n",
    "print(f\"Found {len(paths)} midi files\")\n",
    "\n",
    "# split paths into train and validation\n",
    "train_paths, val_paths = random_split(paths, [0.9, 0.1])"
   ]
  },
  {
   "cell_type": "code",
   "execution_count": 74,
   "metadata": {},
   "outputs": [
    {
     "name": "stderr",
     "output_type": "stream",
     "text": [
      "100%|██████████| 99/99 [00:07<00:00, 12.69it/s]\n",
      "100%|██████████| 11/11 [00:00<00:00, 17.45it/s]\n"
     ]
    }
   ],
   "source": [
    "# now we want to extract windows from all files\n",
    "def extract_windows_from_files(paths, window_size, step_size):\n",
    "    all_windows = []\n",
    "    all_labels = []\n",
    "    mp = MidiEventProcessor()\n",
    "    for path in tqdm(paths):\n",
    "        events = mp.extract_note_events(path)\n",
    "        events = pad_events(events.copy(), window_size)\n",
    "        windows, labels = extract_windows_and_labels(events, window_size, step_size)\n",
    "        all_windows.extend(windows)\n",
    "        all_labels.extend(labels)\n",
    "    return np.array(all_windows), np.array(all_labels)\n",
    "\n",
    "train_windows, train_labels = extract_windows_from_files(train_paths, window_size=30, step_size=1)\n",
    "val_windows, val_labels = extract_windows_from_files(val_paths, window_size=30, step_size=1)"
   ]
  },
  {
   "cell_type": "code",
   "execution_count": 77,
   "metadata": {},
   "outputs": [
    {
     "data": {
      "text/plain": [
       "array([[ 6.1000e+01,  1.1197e+04,  1.1231e+04,  0.0000e+00],\n",
       "       [ 6.1000e+01,  1.1354e+04,  1.1425e+04,  0.0000e+00],\n",
       "       [ 5.3000e+01,  1.1542e+04,  1.1663e+04,  0.0000e+00],\n",
       "       [ 4.3000e+01,  1.1560e+04,  1.1818e+04,  1.0000e+00],\n",
       "       [ 3.6000e+01,  1.1809e+04,  1.2134e+04,  1.0000e+00],\n",
       "       [ 5.0000e+01,  1.1869e+04,  1.2143e+04,  0.0000e+00],\n",
       "       [ 5.6000e+01,  1.2111e+04,  1.2320e+04,  0.0000e+00],\n",
       "       [ 4.1000e+01,  1.2123e+04,  1.2254e+04,  1.0000e+00],\n",
       "       [ 6.2000e+01,  1.2297e+04,  1.2412e+04,  0.0000e+00],\n",
       "       [ 4.8000e+01,  1.2304e+04,  1.2394e+04,  1.0000e+00],\n",
       "       [ 6.2000e+01,  1.2468e+04,  1.2658e+04,  0.0000e+00],\n",
       "       [ 4.8000e+01,  1.2488e+04,  1.2653e+04,  1.0000e+00],\n",
       "       [ 6.8000e+01,  1.2644e+04,  1.2829e+04,  0.0000e+00],\n",
       "       [ 5.3000e+01,  1.2645e+04,  1.2792e+04,  1.0000e+00],\n",
       "       [ 7.4000e+01,  1.2813e+04,  1.2907e+04,  0.0000e+00],\n",
       "       [ 6.0000e+01,  1.2831e+04,  1.2923e+04, -1.0000e+00],\n",
       "       [ 6.0000e+01,  1.2980e+04,  1.3158e+04, -1.0000e+00],\n",
       "       [ 7.4000e+01,  1.2984e+04,  1.3199e+04, -1.0000e+00],\n",
       "       [ 8.0000e+01,  1.3142e+04,  1.3370e+04, -1.0000e+00],\n",
       "       [ 6.5000e+01,  1.3145e+04,  1.3315e+04, -1.0000e+00],\n",
       "       [ 7.2000e+01,  1.3300e+04,  1.3431e+04, -1.0000e+00],\n",
       "       [ 8.6000e+01,  1.3332e+04,  1.3522e+04, -1.0000e+00],\n",
       "       [ 8.0000e+01,  1.3484e+04,  1.3677e+04, -1.0000e+00],\n",
       "       [ 6.5000e+01,  1.3505e+04,  1.3644e+04, -1.0000e+00],\n",
       "       [ 7.4000e+01,  1.3685e+04,  1.3798e+04, -1.0000e+00],\n",
       "       [ 6.0000e+01,  1.3696e+04,  1.3762e+04, -1.0000e+00],\n",
       "       [ 6.0000e+01,  1.3865e+04,  1.4026e+04, -1.0000e+00],\n",
       "       [ 7.4000e+01,  1.3891e+04,  1.4060e+04, -1.0000e+00],\n",
       "       [ 6.8000e+01,  1.4059e+04,  1.4225e+04, -1.0000e+00],\n",
       "       [ 5.3000e+01,  1.4081e+04,  1.4209e+04, -1.0000e+00]],\n",
       "      dtype=float32)"
      ]
     },
     "execution_count": 77,
     "metadata": {},
     "output_type": "execute_result"
    }
   ],
   "source": [
    "train_windows[40]"
   ]
  },
  {
   "cell_type": "code",
   "execution_count": 23,
   "metadata": {},
   "outputs": [],
   "source": [
    "class MidiDataset:\n",
    "    def __init__(self, windows, labels):\n",
    "        self.windows = windows\n",
    "        self.labels = labels\n",
    "\n",
    "    def __len__(self):\n",
    "        return len(self.windows)\n",
    "\n",
    "    def __getitem__(self, idx):\n",
    "        return self.windows[idx], self.labels[idx]"
   ]
  },
  {
   "cell_type": "code",
   "execution_count": 24,
   "metadata": {},
   "outputs": [],
   "source": [
    "# create a data loader\n",
    "batch_size = 64\n",
    "train_dataset = MidiDataset(train_windows, train_labels)\n",
    "val_dataset = MidiDataset(val_windows, val_labels)\n",
    "# split dataset in train and validation\n",
    "train_loader = DataLoader(train_dataset, batch_size=batch_size, shuffle=True)\n",
    "val_loader = DataLoader(val_dataset, batch_size=batch_size, shuffle=True)"
   ]
  },
  {
   "cell_type": "code",
   "execution_count": 25,
   "metadata": {},
   "outputs": [
    {
     "name": "stdout",
     "output_type": "stream",
     "text": [
      "Using device: mps\n",
      "torch.Size([64, 1])\n",
      "torch.Size([64, 1])\n"
     ]
    }
   ],
   "source": [
    "import torch\n",
    "from torch import nn\n",
    "\n",
    "device = torch.device(\"cuda\" if torch.cuda.is_available() else (\"mps\" if torch.backends.mps.is_available() else \"cpu\"))\n",
    "print(f\"Using device: {device}\")\n",
    "\n",
    "class LSTMModel(nn.Module):\n",
    "    def __init__(\n",
    "        self, input_size, hidden_size, num_layers, num_classes, device, **extra_params\n",
    "    ):\n",
    "        super(LSTMModel, self).__init__()\n",
    "        self.hidden_size = hidden_size\n",
    "        self.num_layers = num_layers\n",
    "        self.device = device\n",
    "        self.lstm = nn.LSTM(\n",
    "            input_size, hidden_size, num_layers, batch_first=True, bidirectional=True\n",
    "        )\n",
    "        self.fc = nn.Linear(hidden_size * 2, 10)\n",
    "        self.fc2 = nn.Linear(10, num_classes)\n",
    "\n",
    "    def forward(self, x):\n",
    "        h0 = torch.zeros(self.num_layers * 2, x.size(0), self.hidden_size).to(\n",
    "            self.device\n",
    "        )\n",
    "        c0 = torch.zeros(self.num_layers * 2, x.size(0), self.hidden_size).to(\n",
    "            self.device\n",
    "        )\n",
    "        out, _ = self.lstm(x, (h0, c0))\n",
    "        out = self.fc(out[:, out.size(1) // 2, :])\n",
    "        out = self.fc2(out)\n",
    "        # out = torch.sigmoid(out)\n",
    "        return out\n",
    "\n",
    "\n",
    "model = LSTMModel(input_size=4, hidden_size=16, num_layers=2, num_classes=1, device=device).to(device)\n",
    "\n",
    "example = next(iter(train_loader))\n",
    "events = example[0].to(device)\n",
    "print(model(events).shape)\n",
    "print(example[1].unsqueeze(1).shape)"
   ]
  },
  {
   "cell_type": "code",
   "execution_count": 96,
   "metadata": {},
   "outputs": [],
   "source": [
    "import math\n",
    "class PositionalEncoding(nn.Module):\n",
    "    def __init__(self, hidden_size, window_size, dropout=0.1):\n",
    "        super(PositionalEncoding, self).__init__()\n",
    "        self.dropout = nn.Dropout(p=dropout)\n",
    "\n",
    "        pe = torch.zeros(window_size, hidden_size)\n",
    "        position = torch.arange(0, window_size, dtype=torch.float).unsqueeze(1)\n",
    "        div_term = torch.exp(torch.arange(0, hidden_size, 2).float() * (-math.log(10000.0) / hidden_size))\n",
    "        pe[:, 0::2] = torch.sin(position * div_term)\n",
    "        pe[:, 1::2] = torch.cos(position * div_term)\n",
    "\n",
    "        pe = pe.unsqueeze(0)  # Shape is now [1, window_size, hidden_size]\n",
    "        self.register_buffer('pe', pe)\n",
    "\n",
    "    def forward(self, x):\n",
    "        # x shape is assumed to be [batch_size, window_size, hidden_size]\n",
    "        x = x + self.pe[:x.size(1), :]  # Corrected to add along the window_size dimension\n",
    "        return self.dropout(x)\n",
    "\n",
    "class HandFormer(nn.Module):\n",
    "    def __init__(self, num_features, num_layers, hidden_size, num_heads, window_size):\n",
    "        super(HandFormer, self).__init__()\n",
    "        self.window_size = window_size\n",
    "        self.embedding = nn.Linear(num_features, hidden_size)\n",
    "        self.pos_encoder = PositionalEncoding(hidden_size, window_size)\n",
    "        \n",
    "        self.encoder = nn.TransformerEncoder(\n",
    "            nn.TransformerEncoderLayer(batch_first=True, d_model=hidden_size, nhead=num_heads),\n",
    "            num_layers=num_layers,\n",
    "        )\n",
    "        self.fc = nn.Linear(hidden_size, 10)\n",
    "        self.fc2 = nn.Linear(10, 1)\n",
    "    \n",
    "    def forward(self, x):\n",
    "        # embed the notes\n",
    "        # x.shape is (batch_size, window_size, 3)\n",
    "        # print(f'x.shape: {x.shape}')\n",
    "        x = self.embedding(x)    \n",
    "        # x = self.pos_encoder(x) # Add positional encoding\n",
    "        # x.shape is (batch_size, window_size, hidden_size)\n",
    "        # print(f'x.shape: {x.shape}')\n",
    "        x = self.encoder(x)\n",
    "        # x = torch.sum(x, dim=1) # Example aggregation (summing all the output states)\n",
    "        # x.shape is (batch_size, window_size, hidden_size)\n",
    "        x = self.fc(x[:, 14, :])\n",
    "        x = self.fc2(x)\n",
    "        # x.shape is (batch_size, window_size, 1)\n",
    "        # print(f'x.shape: {x.shape}')\n",
    "        return x"
   ]
  },
  {
   "cell_type": "code",
   "execution_count": 97,
   "metadata": {},
   "outputs": [
    {
     "ename": "RuntimeError",
     "evalue": "linear(): input and weight.T shapes cannot be multiplied (30x4 and 2x4)",
     "output_type": "error",
     "traceback": [
      "\u001b[0;31m---------------------------------------------------------------------------\u001b[0m",
      "\u001b[0;31mRuntimeError\u001b[0m                              Traceback (most recent call last)",
      "Cell \u001b[0;32mIn[97], line 4\u001b[0m\n\u001b[1;32m      2\u001b[0m example \u001b[38;5;241m=\u001b[39m \u001b[38;5;28mnext\u001b[39m(\u001b[38;5;28miter\u001b[39m(train_loader))\n\u001b[1;32m      3\u001b[0m events \u001b[38;5;241m=\u001b[39m example[\u001b[38;5;241m0\u001b[39m]\u001b[38;5;241m.\u001b[39mto(device)\n\u001b[0;32m----> 4\u001b[0m \u001b[38;5;28mprint\u001b[39m(\u001b[43mmodel\u001b[49m\u001b[43m(\u001b[49m\u001b[43mevents\u001b[49m\u001b[43m)\u001b[49m\u001b[38;5;241m.\u001b[39mshape)\n\u001b[1;32m      5\u001b[0m \u001b[38;5;28mprint\u001b[39m(example[\u001b[38;5;241m1\u001b[39m]\u001b[38;5;241m.\u001b[39munsqueeze(\u001b[38;5;241m1\u001b[39m)\u001b[38;5;241m.\u001b[39mshape)\n\u001b[1;32m      7\u001b[0m model(events)\u001b[38;5;241m.\u001b[39mshape\n",
      "File \u001b[0;32m~/pro/midi2hands/venv/lib/python3.10/site-packages/torch/nn/modules/module.py:1532\u001b[0m, in \u001b[0;36mModule._wrapped_call_impl\u001b[0;34m(self, *args, **kwargs)\u001b[0m\n\u001b[1;32m   1530\u001b[0m     \u001b[38;5;28;01mreturn\u001b[39;00m \u001b[38;5;28mself\u001b[39m\u001b[38;5;241m.\u001b[39m_compiled_call_impl(\u001b[38;5;241m*\u001b[39margs, \u001b[38;5;241m*\u001b[39m\u001b[38;5;241m*\u001b[39mkwargs)  \u001b[38;5;66;03m# type: ignore[misc]\u001b[39;00m\n\u001b[1;32m   1531\u001b[0m \u001b[38;5;28;01melse\u001b[39;00m:\n\u001b[0;32m-> 1532\u001b[0m     \u001b[38;5;28;01mreturn\u001b[39;00m \u001b[38;5;28;43mself\u001b[39;49m\u001b[38;5;241;43m.\u001b[39;49m\u001b[43m_call_impl\u001b[49m\u001b[43m(\u001b[49m\u001b[38;5;241;43m*\u001b[39;49m\u001b[43margs\u001b[49m\u001b[43m,\u001b[49m\u001b[43m \u001b[49m\u001b[38;5;241;43m*\u001b[39;49m\u001b[38;5;241;43m*\u001b[39;49m\u001b[43mkwargs\u001b[49m\u001b[43m)\u001b[49m\n",
      "File \u001b[0;32m~/pro/midi2hands/venv/lib/python3.10/site-packages/torch/nn/modules/module.py:1541\u001b[0m, in \u001b[0;36mModule._call_impl\u001b[0;34m(self, *args, **kwargs)\u001b[0m\n\u001b[1;32m   1536\u001b[0m \u001b[38;5;66;03m# If we don't have any hooks, we want to skip the rest of the logic in\u001b[39;00m\n\u001b[1;32m   1537\u001b[0m \u001b[38;5;66;03m# this function, and just call forward.\u001b[39;00m\n\u001b[1;32m   1538\u001b[0m \u001b[38;5;28;01mif\u001b[39;00m \u001b[38;5;129;01mnot\u001b[39;00m (\u001b[38;5;28mself\u001b[39m\u001b[38;5;241m.\u001b[39m_backward_hooks \u001b[38;5;129;01mor\u001b[39;00m \u001b[38;5;28mself\u001b[39m\u001b[38;5;241m.\u001b[39m_backward_pre_hooks \u001b[38;5;129;01mor\u001b[39;00m \u001b[38;5;28mself\u001b[39m\u001b[38;5;241m.\u001b[39m_forward_hooks \u001b[38;5;129;01mor\u001b[39;00m \u001b[38;5;28mself\u001b[39m\u001b[38;5;241m.\u001b[39m_forward_pre_hooks\n\u001b[1;32m   1539\u001b[0m         \u001b[38;5;129;01mor\u001b[39;00m _global_backward_pre_hooks \u001b[38;5;129;01mor\u001b[39;00m _global_backward_hooks\n\u001b[1;32m   1540\u001b[0m         \u001b[38;5;129;01mor\u001b[39;00m _global_forward_hooks \u001b[38;5;129;01mor\u001b[39;00m _global_forward_pre_hooks):\n\u001b[0;32m-> 1541\u001b[0m     \u001b[38;5;28;01mreturn\u001b[39;00m \u001b[43mforward_call\u001b[49m\u001b[43m(\u001b[49m\u001b[38;5;241;43m*\u001b[39;49m\u001b[43margs\u001b[49m\u001b[43m,\u001b[49m\u001b[43m \u001b[49m\u001b[38;5;241;43m*\u001b[39;49m\u001b[38;5;241;43m*\u001b[39;49m\u001b[43mkwargs\u001b[49m\u001b[43m)\u001b[49m\n\u001b[1;32m   1543\u001b[0m \u001b[38;5;28;01mtry\u001b[39;00m:\n\u001b[1;32m   1544\u001b[0m     result \u001b[38;5;241m=\u001b[39m \u001b[38;5;28;01mNone\u001b[39;00m\n",
      "Cell \u001b[0;32mIn[96], line 39\u001b[0m, in \u001b[0;36mHandFormer.forward\u001b[0;34m(self, x)\u001b[0m\n\u001b[1;32m     35\u001b[0m \u001b[38;5;28;01mdef\u001b[39;00m \u001b[38;5;21mforward\u001b[39m(\u001b[38;5;28mself\u001b[39m, x):\n\u001b[1;32m     36\u001b[0m     \u001b[38;5;66;03m# embed the notes\u001b[39;00m\n\u001b[1;32m     37\u001b[0m     \u001b[38;5;66;03m# x.shape is (batch_size, window_size, 3)\u001b[39;00m\n\u001b[1;32m     38\u001b[0m     \u001b[38;5;66;03m# print(f'x.shape: {x.shape}')\u001b[39;00m\n\u001b[0;32m---> 39\u001b[0m     x \u001b[38;5;241m=\u001b[39m \u001b[38;5;28;43mself\u001b[39;49m\u001b[38;5;241;43m.\u001b[39;49m\u001b[43membedding\u001b[49m\u001b[43m(\u001b[49m\u001b[43mx\u001b[49m\u001b[43m)\u001b[49m    \n\u001b[1;32m     40\u001b[0m     \u001b[38;5;66;03m# x = self.pos_encoder(x) # Add positional encoding\u001b[39;00m\n\u001b[1;32m     41\u001b[0m     \u001b[38;5;66;03m# x.shape is (batch_size, window_size, hidden_size)\u001b[39;00m\n\u001b[1;32m     42\u001b[0m     \u001b[38;5;66;03m# print(f'x.shape: {x.shape}')\u001b[39;00m\n\u001b[1;32m     43\u001b[0m     x \u001b[38;5;241m=\u001b[39m \u001b[38;5;28mself\u001b[39m\u001b[38;5;241m.\u001b[39mencoder(x)\n",
      "File \u001b[0;32m~/pro/midi2hands/venv/lib/python3.10/site-packages/torch/nn/modules/module.py:1532\u001b[0m, in \u001b[0;36mModule._wrapped_call_impl\u001b[0;34m(self, *args, **kwargs)\u001b[0m\n\u001b[1;32m   1530\u001b[0m     \u001b[38;5;28;01mreturn\u001b[39;00m \u001b[38;5;28mself\u001b[39m\u001b[38;5;241m.\u001b[39m_compiled_call_impl(\u001b[38;5;241m*\u001b[39margs, \u001b[38;5;241m*\u001b[39m\u001b[38;5;241m*\u001b[39mkwargs)  \u001b[38;5;66;03m# type: ignore[misc]\u001b[39;00m\n\u001b[1;32m   1531\u001b[0m \u001b[38;5;28;01melse\u001b[39;00m:\n\u001b[0;32m-> 1532\u001b[0m     \u001b[38;5;28;01mreturn\u001b[39;00m \u001b[38;5;28;43mself\u001b[39;49m\u001b[38;5;241;43m.\u001b[39;49m\u001b[43m_call_impl\u001b[49m\u001b[43m(\u001b[49m\u001b[38;5;241;43m*\u001b[39;49m\u001b[43margs\u001b[49m\u001b[43m,\u001b[49m\u001b[43m \u001b[49m\u001b[38;5;241;43m*\u001b[39;49m\u001b[38;5;241;43m*\u001b[39;49m\u001b[43mkwargs\u001b[49m\u001b[43m)\u001b[49m\n",
      "File \u001b[0;32m~/pro/midi2hands/venv/lib/python3.10/site-packages/torch/nn/modules/module.py:1541\u001b[0m, in \u001b[0;36mModule._call_impl\u001b[0;34m(self, *args, **kwargs)\u001b[0m\n\u001b[1;32m   1536\u001b[0m \u001b[38;5;66;03m# If we don't have any hooks, we want to skip the rest of the logic in\u001b[39;00m\n\u001b[1;32m   1537\u001b[0m \u001b[38;5;66;03m# this function, and just call forward.\u001b[39;00m\n\u001b[1;32m   1538\u001b[0m \u001b[38;5;28;01mif\u001b[39;00m \u001b[38;5;129;01mnot\u001b[39;00m (\u001b[38;5;28mself\u001b[39m\u001b[38;5;241m.\u001b[39m_backward_hooks \u001b[38;5;129;01mor\u001b[39;00m \u001b[38;5;28mself\u001b[39m\u001b[38;5;241m.\u001b[39m_backward_pre_hooks \u001b[38;5;129;01mor\u001b[39;00m \u001b[38;5;28mself\u001b[39m\u001b[38;5;241m.\u001b[39m_forward_hooks \u001b[38;5;129;01mor\u001b[39;00m \u001b[38;5;28mself\u001b[39m\u001b[38;5;241m.\u001b[39m_forward_pre_hooks\n\u001b[1;32m   1539\u001b[0m         \u001b[38;5;129;01mor\u001b[39;00m _global_backward_pre_hooks \u001b[38;5;129;01mor\u001b[39;00m _global_backward_hooks\n\u001b[1;32m   1540\u001b[0m         \u001b[38;5;129;01mor\u001b[39;00m _global_forward_hooks \u001b[38;5;129;01mor\u001b[39;00m _global_forward_pre_hooks):\n\u001b[0;32m-> 1541\u001b[0m     \u001b[38;5;28;01mreturn\u001b[39;00m \u001b[43mforward_call\u001b[49m\u001b[43m(\u001b[49m\u001b[38;5;241;43m*\u001b[39;49m\u001b[43margs\u001b[49m\u001b[43m,\u001b[49m\u001b[43m \u001b[49m\u001b[38;5;241;43m*\u001b[39;49m\u001b[38;5;241;43m*\u001b[39;49m\u001b[43mkwargs\u001b[49m\u001b[43m)\u001b[49m\n\u001b[1;32m   1543\u001b[0m \u001b[38;5;28;01mtry\u001b[39;00m:\n\u001b[1;32m   1544\u001b[0m     result \u001b[38;5;241m=\u001b[39m \u001b[38;5;28;01mNone\u001b[39;00m\n",
      "File \u001b[0;32m~/pro/midi2hands/venv/lib/python3.10/site-packages/torch/nn/modules/linear.py:116\u001b[0m, in \u001b[0;36mLinear.forward\u001b[0;34m(self, input)\u001b[0m\n\u001b[1;32m    115\u001b[0m \u001b[38;5;28;01mdef\u001b[39;00m \u001b[38;5;21mforward\u001b[39m(\u001b[38;5;28mself\u001b[39m, \u001b[38;5;28minput\u001b[39m: Tensor) \u001b[38;5;241m-\u001b[39m\u001b[38;5;241m>\u001b[39m Tensor:\n\u001b[0;32m--> 116\u001b[0m     \u001b[38;5;28;01mreturn\u001b[39;00m \u001b[43mF\u001b[49m\u001b[38;5;241;43m.\u001b[39;49m\u001b[43mlinear\u001b[49m\u001b[43m(\u001b[49m\u001b[38;5;28;43minput\u001b[39;49m\u001b[43m,\u001b[49m\u001b[43m \u001b[49m\u001b[38;5;28;43mself\u001b[39;49m\u001b[38;5;241;43m.\u001b[39;49m\u001b[43mweight\u001b[49m\u001b[43m,\u001b[49m\u001b[43m \u001b[49m\u001b[38;5;28;43mself\u001b[39;49m\u001b[38;5;241;43m.\u001b[39;49m\u001b[43mbias\u001b[49m\u001b[43m)\u001b[49m\n",
      "\u001b[0;31mRuntimeError\u001b[0m: linear(): input and weight.T shapes cannot be multiplied (30x4 and 2x4)"
     ]
    }
   ],
   "source": [
    "model = HandFormer(num_features=2, num_layers=1, hidden_size=4, num_heads=2, window_size=30).to(device)\n",
    "example = next(iter(train_loader))\n",
    "events = example[0].to(device)\n",
    "print(model(events).shape)\n",
    "print(example[1].unsqueeze(1).shape)\n",
    "\n",
    "model(events).shape\n",
    "\n",
    "# number of parameters\n",
    "def count_parameters(model):\n",
    "    return sum(p.numel() for p in model.parameters() if p.requires_grad)\n",
    "\n",
    "print(f'The model has {count_parameters(model)} trainable parameters')\n"
   ]
  },
  {
   "cell_type": "code",
   "execution_count": 26,
   "metadata": {},
   "outputs": [],
   "source": [
    "# hyperparameters\n",
    "num_epochs = 30\n",
    "input_size = 4\n",
    "hidden_size = 16\n",
    "num_layers = 2\n",
    "num_classes = 1"
   ]
  },
  {
   "cell_type": "code",
   "execution_count": 27,
   "metadata": {},
   "outputs": [
    {
     "name": "stderr",
     "output_type": "stream",
     "text": [
      "100%|██████████| 4779/4779 [01:15<00:00, 63.38batch/s]\n"
     ]
    },
    {
     "name": "stdout",
     "output_type": "stream",
     "text": [
      "epoch 1/30: val_acc: 0.57682995930562\n"
     ]
    },
    {
     "name": "stderr",
     "output_type": "stream",
     "text": [
      "100%|██████████| 4779/4779 [01:12<00:00, 65.65batch/s]\n"
     ]
    },
    {
     "name": "stdout",
     "output_type": "stream",
     "text": [
      "epoch 2/30: val_acc: 0.57682995930562\n"
     ]
    },
    {
     "name": "stderr",
     "output_type": "stream",
     "text": [
      " 12%|█▏        | 566/4779 [00:08<01:05, 63.83batch/s]\n"
     ]
    },
    {
     "ename": "KeyboardInterrupt",
     "evalue": "",
     "output_type": "error",
     "traceback": [
      "\u001b[0;31m---------------------------------------------------------------------------\u001b[0m",
      "\u001b[0;31mKeyboardInterrupt\u001b[0m                         Traceback (most recent call last)",
      "Cell \u001b[0;32mIn[27], line 45\u001b[0m\n\u001b[1;32m     43\u001b[0m     optimizer\u001b[38;5;241m.\u001b[39mzero_grad()\n\u001b[1;32m     44\u001b[0m     loss\u001b[38;5;241m.\u001b[39mbackward()\n\u001b[0;32m---> 45\u001b[0m     \u001b[43moptimizer\u001b[49m\u001b[38;5;241;43m.\u001b[39;49m\u001b[43mstep\u001b[49m\u001b[43m(\u001b[49m\u001b[43m)\u001b[49m\n\u001b[1;32m     47\u001b[0m     epoch_losses\u001b[38;5;241m.\u001b[39mappend(loss\u001b[38;5;241m.\u001b[39mitem())\n\u001b[1;32m     50\u001b[0m losses\u001b[38;5;241m.\u001b[39mappend(np\u001b[38;5;241m.\u001b[39mmean(epoch_losses))\n",
      "File \u001b[0;32m~/pro/midi2hands/venv/lib/python3.10/site-packages/torch/optim/optimizer.py:391\u001b[0m, in \u001b[0;36mOptimizer.profile_hook_step.<locals>.wrapper\u001b[0;34m(*args, **kwargs)\u001b[0m\n\u001b[1;32m    386\u001b[0m         \u001b[38;5;28;01melse\u001b[39;00m:\n\u001b[1;32m    387\u001b[0m             \u001b[38;5;28;01mraise\u001b[39;00m \u001b[38;5;167;01mRuntimeError\u001b[39;00m(\n\u001b[1;32m    388\u001b[0m                 \u001b[38;5;124mf\u001b[39m\u001b[38;5;124m\"\u001b[39m\u001b[38;5;132;01m{\u001b[39;00mfunc\u001b[38;5;132;01m}\u001b[39;00m\u001b[38;5;124m must return None or a tuple of (new_args, new_kwargs), but got \u001b[39m\u001b[38;5;132;01m{\u001b[39;00mresult\u001b[38;5;132;01m}\u001b[39;00m\u001b[38;5;124m.\u001b[39m\u001b[38;5;124m\"\u001b[39m\n\u001b[1;32m    389\u001b[0m             )\n\u001b[0;32m--> 391\u001b[0m out \u001b[38;5;241m=\u001b[39m \u001b[43mfunc\u001b[49m\u001b[43m(\u001b[49m\u001b[38;5;241;43m*\u001b[39;49m\u001b[43margs\u001b[49m\u001b[43m,\u001b[49m\u001b[43m \u001b[49m\u001b[38;5;241;43m*\u001b[39;49m\u001b[38;5;241;43m*\u001b[39;49m\u001b[43mkwargs\u001b[49m\u001b[43m)\u001b[49m\n\u001b[1;32m    392\u001b[0m \u001b[38;5;28mself\u001b[39m\u001b[38;5;241m.\u001b[39m_optimizer_step_code()\n\u001b[1;32m    394\u001b[0m \u001b[38;5;66;03m# call optimizer step post hooks\u001b[39;00m\n",
      "File \u001b[0;32m~/pro/midi2hands/venv/lib/python3.10/site-packages/torch/optim/optimizer.py:76\u001b[0m, in \u001b[0;36m_use_grad_for_differentiable.<locals>._use_grad\u001b[0;34m(self, *args, **kwargs)\u001b[0m\n\u001b[1;32m     74\u001b[0m     torch\u001b[38;5;241m.\u001b[39mset_grad_enabled(\u001b[38;5;28mself\u001b[39m\u001b[38;5;241m.\u001b[39mdefaults[\u001b[38;5;124m'\u001b[39m\u001b[38;5;124mdifferentiable\u001b[39m\u001b[38;5;124m'\u001b[39m])\n\u001b[1;32m     75\u001b[0m     torch\u001b[38;5;241m.\u001b[39m_dynamo\u001b[38;5;241m.\u001b[39mgraph_break()\n\u001b[0;32m---> 76\u001b[0m     ret \u001b[38;5;241m=\u001b[39m \u001b[43mfunc\u001b[49m\u001b[43m(\u001b[49m\u001b[38;5;28;43mself\u001b[39;49m\u001b[43m,\u001b[49m\u001b[43m \u001b[49m\u001b[38;5;241;43m*\u001b[39;49m\u001b[43margs\u001b[49m\u001b[43m,\u001b[49m\u001b[43m \u001b[49m\u001b[38;5;241;43m*\u001b[39;49m\u001b[38;5;241;43m*\u001b[39;49m\u001b[43mkwargs\u001b[49m\u001b[43m)\u001b[49m\n\u001b[1;32m     77\u001b[0m \u001b[38;5;28;01mfinally\u001b[39;00m:\n\u001b[1;32m     78\u001b[0m     torch\u001b[38;5;241m.\u001b[39m_dynamo\u001b[38;5;241m.\u001b[39mgraph_break()\n",
      "File \u001b[0;32m~/pro/midi2hands/venv/lib/python3.10/site-packages/torch/optim/adam.py:168\u001b[0m, in \u001b[0;36mAdam.step\u001b[0;34m(self, closure)\u001b[0m\n\u001b[1;32m    157\u001b[0m     beta1, beta2 \u001b[38;5;241m=\u001b[39m group[\u001b[38;5;124m'\u001b[39m\u001b[38;5;124mbetas\u001b[39m\u001b[38;5;124m'\u001b[39m]\n\u001b[1;32m    159\u001b[0m     has_complex \u001b[38;5;241m=\u001b[39m \u001b[38;5;28mself\u001b[39m\u001b[38;5;241m.\u001b[39m_init_group(\n\u001b[1;32m    160\u001b[0m         group,\n\u001b[1;32m    161\u001b[0m         params_with_grad,\n\u001b[0;32m   (...)\u001b[0m\n\u001b[1;32m    165\u001b[0m         max_exp_avg_sqs,\n\u001b[1;32m    166\u001b[0m         state_steps)\n\u001b[0;32m--> 168\u001b[0m     \u001b[43madam\u001b[49m\u001b[43m(\u001b[49m\n\u001b[1;32m    169\u001b[0m \u001b[43m        \u001b[49m\u001b[43mparams_with_grad\u001b[49m\u001b[43m,\u001b[49m\n\u001b[1;32m    170\u001b[0m \u001b[43m        \u001b[49m\u001b[43mgrads\u001b[49m\u001b[43m,\u001b[49m\n\u001b[1;32m    171\u001b[0m \u001b[43m        \u001b[49m\u001b[43mexp_avgs\u001b[49m\u001b[43m,\u001b[49m\n\u001b[1;32m    172\u001b[0m \u001b[43m        \u001b[49m\u001b[43mexp_avg_sqs\u001b[49m\u001b[43m,\u001b[49m\n\u001b[1;32m    173\u001b[0m \u001b[43m        \u001b[49m\u001b[43mmax_exp_avg_sqs\u001b[49m\u001b[43m,\u001b[49m\n\u001b[1;32m    174\u001b[0m \u001b[43m        \u001b[49m\u001b[43mstate_steps\u001b[49m\u001b[43m,\u001b[49m\n\u001b[1;32m    175\u001b[0m \u001b[43m        \u001b[49m\u001b[43mamsgrad\u001b[49m\u001b[38;5;241;43m=\u001b[39;49m\u001b[43mgroup\u001b[49m\u001b[43m[\u001b[49m\u001b[38;5;124;43m'\u001b[39;49m\u001b[38;5;124;43mamsgrad\u001b[39;49m\u001b[38;5;124;43m'\u001b[39;49m\u001b[43m]\u001b[49m\u001b[43m,\u001b[49m\n\u001b[1;32m    176\u001b[0m \u001b[43m        \u001b[49m\u001b[43mhas_complex\u001b[49m\u001b[38;5;241;43m=\u001b[39;49m\u001b[43mhas_complex\u001b[49m\u001b[43m,\u001b[49m\n\u001b[1;32m    177\u001b[0m \u001b[43m        \u001b[49m\u001b[43mbeta1\u001b[49m\u001b[38;5;241;43m=\u001b[39;49m\u001b[43mbeta1\u001b[49m\u001b[43m,\u001b[49m\n\u001b[1;32m    178\u001b[0m \u001b[43m        \u001b[49m\u001b[43mbeta2\u001b[49m\u001b[38;5;241;43m=\u001b[39;49m\u001b[43mbeta2\u001b[49m\u001b[43m,\u001b[49m\n\u001b[1;32m    179\u001b[0m \u001b[43m        \u001b[49m\u001b[43mlr\u001b[49m\u001b[38;5;241;43m=\u001b[39;49m\u001b[43mgroup\u001b[49m\u001b[43m[\u001b[49m\u001b[38;5;124;43m'\u001b[39;49m\u001b[38;5;124;43mlr\u001b[39;49m\u001b[38;5;124;43m'\u001b[39;49m\u001b[43m]\u001b[49m\u001b[43m,\u001b[49m\n\u001b[1;32m    180\u001b[0m \u001b[43m        \u001b[49m\u001b[43mweight_decay\u001b[49m\u001b[38;5;241;43m=\u001b[39;49m\u001b[43mgroup\u001b[49m\u001b[43m[\u001b[49m\u001b[38;5;124;43m'\u001b[39;49m\u001b[38;5;124;43mweight_decay\u001b[39;49m\u001b[38;5;124;43m'\u001b[39;49m\u001b[43m]\u001b[49m\u001b[43m,\u001b[49m\n\u001b[1;32m    181\u001b[0m \u001b[43m        \u001b[49m\u001b[43meps\u001b[49m\u001b[38;5;241;43m=\u001b[39;49m\u001b[43mgroup\u001b[49m\u001b[43m[\u001b[49m\u001b[38;5;124;43m'\u001b[39;49m\u001b[38;5;124;43meps\u001b[39;49m\u001b[38;5;124;43m'\u001b[39;49m\u001b[43m]\u001b[49m\u001b[43m,\u001b[49m\n\u001b[1;32m    182\u001b[0m \u001b[43m        \u001b[49m\u001b[43mmaximize\u001b[49m\u001b[38;5;241;43m=\u001b[39;49m\u001b[43mgroup\u001b[49m\u001b[43m[\u001b[49m\u001b[38;5;124;43m'\u001b[39;49m\u001b[38;5;124;43mmaximize\u001b[39;49m\u001b[38;5;124;43m'\u001b[39;49m\u001b[43m]\u001b[49m\u001b[43m,\u001b[49m\n\u001b[1;32m    183\u001b[0m \u001b[43m        \u001b[49m\u001b[43mforeach\u001b[49m\u001b[38;5;241;43m=\u001b[39;49m\u001b[43mgroup\u001b[49m\u001b[43m[\u001b[49m\u001b[38;5;124;43m'\u001b[39;49m\u001b[38;5;124;43mforeach\u001b[39;49m\u001b[38;5;124;43m'\u001b[39;49m\u001b[43m]\u001b[49m\u001b[43m,\u001b[49m\n\u001b[1;32m    184\u001b[0m \u001b[43m        \u001b[49m\u001b[43mcapturable\u001b[49m\u001b[38;5;241;43m=\u001b[39;49m\u001b[43mgroup\u001b[49m\u001b[43m[\u001b[49m\u001b[38;5;124;43m'\u001b[39;49m\u001b[38;5;124;43mcapturable\u001b[39;49m\u001b[38;5;124;43m'\u001b[39;49m\u001b[43m]\u001b[49m\u001b[43m,\u001b[49m\n\u001b[1;32m    185\u001b[0m \u001b[43m        \u001b[49m\u001b[43mdifferentiable\u001b[49m\u001b[38;5;241;43m=\u001b[39;49m\u001b[43mgroup\u001b[49m\u001b[43m[\u001b[49m\u001b[38;5;124;43m'\u001b[39;49m\u001b[38;5;124;43mdifferentiable\u001b[39;49m\u001b[38;5;124;43m'\u001b[39;49m\u001b[43m]\u001b[49m\u001b[43m,\u001b[49m\n\u001b[1;32m    186\u001b[0m \u001b[43m        \u001b[49m\u001b[43mfused\u001b[49m\u001b[38;5;241;43m=\u001b[39;49m\u001b[43mgroup\u001b[49m\u001b[43m[\u001b[49m\u001b[38;5;124;43m'\u001b[39;49m\u001b[38;5;124;43mfused\u001b[39;49m\u001b[38;5;124;43m'\u001b[39;49m\u001b[43m]\u001b[49m\u001b[43m,\u001b[49m\n\u001b[1;32m    187\u001b[0m \u001b[43m        \u001b[49m\u001b[43mgrad_scale\u001b[49m\u001b[38;5;241;43m=\u001b[39;49m\u001b[38;5;28;43mgetattr\u001b[39;49m\u001b[43m(\u001b[49m\u001b[38;5;28;43mself\u001b[39;49m\u001b[43m,\u001b[49m\u001b[43m \u001b[49m\u001b[38;5;124;43m\"\u001b[39;49m\u001b[38;5;124;43mgrad_scale\u001b[39;49m\u001b[38;5;124;43m\"\u001b[39;49m\u001b[43m,\u001b[49m\u001b[43m \u001b[49m\u001b[38;5;28;43;01mNone\u001b[39;49;00m\u001b[43m)\u001b[49m\u001b[43m,\u001b[49m\n\u001b[1;32m    188\u001b[0m \u001b[43m        \u001b[49m\u001b[43mfound_inf\u001b[49m\u001b[38;5;241;43m=\u001b[39;49m\u001b[38;5;28;43mgetattr\u001b[39;49m\u001b[43m(\u001b[49m\u001b[38;5;28;43mself\u001b[39;49m\u001b[43m,\u001b[49m\u001b[43m \u001b[49m\u001b[38;5;124;43m\"\u001b[39;49m\u001b[38;5;124;43mfound_inf\u001b[39;49m\u001b[38;5;124;43m\"\u001b[39;49m\u001b[43m,\u001b[49m\u001b[43m \u001b[49m\u001b[38;5;28;43;01mNone\u001b[39;49;00m\u001b[43m)\u001b[49m\u001b[43m,\u001b[49m\n\u001b[1;32m    189\u001b[0m \u001b[43m    \u001b[49m\u001b[43m)\u001b[49m\n\u001b[1;32m    191\u001b[0m \u001b[38;5;28;01mreturn\u001b[39;00m loss\n",
      "File \u001b[0;32m~/pro/midi2hands/venv/lib/python3.10/site-packages/torch/optim/adam.py:318\u001b[0m, in \u001b[0;36madam\u001b[0;34m(params, grads, exp_avgs, exp_avg_sqs, max_exp_avg_sqs, state_steps, foreach, capturable, differentiable, fused, grad_scale, found_inf, has_complex, amsgrad, beta1, beta2, lr, weight_decay, eps, maximize)\u001b[0m\n\u001b[1;32m    315\u001b[0m \u001b[38;5;28;01melse\u001b[39;00m:\n\u001b[1;32m    316\u001b[0m     func \u001b[38;5;241m=\u001b[39m _single_tensor_adam\n\u001b[0;32m--> 318\u001b[0m \u001b[43mfunc\u001b[49m\u001b[43m(\u001b[49m\u001b[43mparams\u001b[49m\u001b[43m,\u001b[49m\n\u001b[1;32m    319\u001b[0m \u001b[43m     \u001b[49m\u001b[43mgrads\u001b[49m\u001b[43m,\u001b[49m\n\u001b[1;32m    320\u001b[0m \u001b[43m     \u001b[49m\u001b[43mexp_avgs\u001b[49m\u001b[43m,\u001b[49m\n\u001b[1;32m    321\u001b[0m \u001b[43m     \u001b[49m\u001b[43mexp_avg_sqs\u001b[49m\u001b[43m,\u001b[49m\n\u001b[1;32m    322\u001b[0m \u001b[43m     \u001b[49m\u001b[43mmax_exp_avg_sqs\u001b[49m\u001b[43m,\u001b[49m\n\u001b[1;32m    323\u001b[0m \u001b[43m     \u001b[49m\u001b[43mstate_steps\u001b[49m\u001b[43m,\u001b[49m\n\u001b[1;32m    324\u001b[0m \u001b[43m     \u001b[49m\u001b[43mamsgrad\u001b[49m\u001b[38;5;241;43m=\u001b[39;49m\u001b[43mamsgrad\u001b[49m\u001b[43m,\u001b[49m\n\u001b[1;32m    325\u001b[0m \u001b[43m     \u001b[49m\u001b[43mhas_complex\u001b[49m\u001b[38;5;241;43m=\u001b[39;49m\u001b[43mhas_complex\u001b[49m\u001b[43m,\u001b[49m\n\u001b[1;32m    326\u001b[0m \u001b[43m     \u001b[49m\u001b[43mbeta1\u001b[49m\u001b[38;5;241;43m=\u001b[39;49m\u001b[43mbeta1\u001b[49m\u001b[43m,\u001b[49m\n\u001b[1;32m    327\u001b[0m \u001b[43m     \u001b[49m\u001b[43mbeta2\u001b[49m\u001b[38;5;241;43m=\u001b[39;49m\u001b[43mbeta2\u001b[49m\u001b[43m,\u001b[49m\n\u001b[1;32m    328\u001b[0m \u001b[43m     \u001b[49m\u001b[43mlr\u001b[49m\u001b[38;5;241;43m=\u001b[39;49m\u001b[43mlr\u001b[49m\u001b[43m,\u001b[49m\n\u001b[1;32m    329\u001b[0m \u001b[43m     \u001b[49m\u001b[43mweight_decay\u001b[49m\u001b[38;5;241;43m=\u001b[39;49m\u001b[43mweight_decay\u001b[49m\u001b[43m,\u001b[49m\n\u001b[1;32m    330\u001b[0m \u001b[43m     \u001b[49m\u001b[43meps\u001b[49m\u001b[38;5;241;43m=\u001b[39;49m\u001b[43meps\u001b[49m\u001b[43m,\u001b[49m\n\u001b[1;32m    331\u001b[0m \u001b[43m     \u001b[49m\u001b[43mmaximize\u001b[49m\u001b[38;5;241;43m=\u001b[39;49m\u001b[43mmaximize\u001b[49m\u001b[43m,\u001b[49m\n\u001b[1;32m    332\u001b[0m \u001b[43m     \u001b[49m\u001b[43mcapturable\u001b[49m\u001b[38;5;241;43m=\u001b[39;49m\u001b[43mcapturable\u001b[49m\u001b[43m,\u001b[49m\n\u001b[1;32m    333\u001b[0m \u001b[43m     \u001b[49m\u001b[43mdifferentiable\u001b[49m\u001b[38;5;241;43m=\u001b[39;49m\u001b[43mdifferentiable\u001b[49m\u001b[43m,\u001b[49m\n\u001b[1;32m    334\u001b[0m \u001b[43m     \u001b[49m\u001b[43mgrad_scale\u001b[49m\u001b[38;5;241;43m=\u001b[39;49m\u001b[43mgrad_scale\u001b[49m\u001b[43m,\u001b[49m\n\u001b[1;32m    335\u001b[0m \u001b[43m     \u001b[49m\u001b[43mfound_inf\u001b[49m\u001b[38;5;241;43m=\u001b[39;49m\u001b[43mfound_inf\u001b[49m\u001b[43m)\u001b[49m\n",
      "File \u001b[0;32m~/pro/midi2hands/venv/lib/python3.10/site-packages/torch/optim/adam.py:443\u001b[0m, in \u001b[0;36m_single_tensor_adam\u001b[0;34m(params, grads, exp_avgs, exp_avg_sqs, max_exp_avg_sqs, state_steps, grad_scale, found_inf, amsgrad, has_complex, beta1, beta2, lr, weight_decay, eps, maximize, capturable, differentiable)\u001b[0m\n\u001b[1;32m    440\u001b[0m     \u001b[38;5;28;01melse\u001b[39;00m:\n\u001b[1;32m    441\u001b[0m         denom \u001b[38;5;241m=\u001b[39m (exp_avg_sq\u001b[38;5;241m.\u001b[39msqrt() \u001b[38;5;241m/\u001b[39m bias_correction2_sqrt)\u001b[38;5;241m.\u001b[39madd_(eps)\n\u001b[0;32m--> 443\u001b[0m     \u001b[43mparam\u001b[49m\u001b[38;5;241;43m.\u001b[39;49m\u001b[43maddcdiv_\u001b[49m\u001b[43m(\u001b[49m\u001b[43mexp_avg\u001b[49m\u001b[43m,\u001b[49m\u001b[43m \u001b[49m\u001b[43mdenom\u001b[49m\u001b[43m,\u001b[49m\u001b[43m \u001b[49m\u001b[43mvalue\u001b[49m\u001b[38;5;241;43m=\u001b[39;49m\u001b[38;5;241;43m-\u001b[39;49m\u001b[43mstep_size\u001b[49m\u001b[43m)\u001b[49m\n\u001b[1;32m    445\u001b[0m \u001b[38;5;66;03m# Lastly, switch back to complex view\u001b[39;00m\n\u001b[1;32m    446\u001b[0m \u001b[38;5;28;01mif\u001b[39;00m amsgrad \u001b[38;5;129;01mand\u001b[39;00m torch\u001b[38;5;241m.\u001b[39mis_complex(params[i]):\n",
      "\u001b[0;31mKeyboardInterrupt\u001b[0m: "
     ]
    }
   ],
   "source": [
    "\n",
    "# model\n",
    "model = LSTMModel(input_size, hidden_size, num_layers, num_classes, device=device).to(device)\n",
    "# model = HandFormer(num_features=2, num_layers=2, hidden_size=32, num_heads=8, window_size=30).to(device)\n",
    "\n",
    "# Loss and optimizer\n",
    "criterion = nn.BCEWithLogitsLoss()\n",
    "optimizer = torch.optim.Adam(model.parameters(), lr=0.001)\n",
    "\n",
    "losses = []\n",
    "accuracies = []\n",
    "val_accuracies = []\n",
    "all_acc = []\n",
    "\n",
    "def accuracy(y_true: list[int], y_pred: list[int]):\n",
    "    return np.mean(np.array(y_true) == np.array(y_pred))\n",
    "\n",
    "\n",
    "for epoch in range(num_epochs):\n",
    "    model.train()\n",
    "    epoch_losses = []\n",
    "    y_true = []\n",
    "    y_pred = []\n",
    "    tqdm_bar = tqdm\n",
    "    for i, (windows, labels) in tqdm(enumerate(train_loader), total=len(train_loader), unit=\"batch\"):\n",
    "        windows = windows.to(device)\n",
    "        labels = labels.unsqueeze(1).float().to(device)\n",
    "\n",
    "        # Forward pass\n",
    "        outputs = model(windows)\n",
    "        loss = criterion(outputs, labels)\n",
    "\n",
    "        y_t = list(labels.squeeze().cpu().numpy().astype(int))\n",
    "\n",
    "        y_p = torch.sigmoid(outputs).squeeze().cpu().detach().numpy()\n",
    "        y_p = list(np.where(y_p > 0.5, 1, 0))\n",
    "\n",
    "        all_acc.append(accuracy(y_t, y_p))\n",
    "\n",
    "        y_true.extend(y_t)\n",
    "        y_pred.extend(y_p)\n",
    "\n",
    "        # Backward and optimize\n",
    "        optimizer.zero_grad()\n",
    "        loss.backward()\n",
    "        optimizer.step()\n",
    "\n",
    "        epoch_losses.append(loss.item())\n",
    "\n",
    "\n",
    "    losses.append(np.mean(epoch_losses))\n",
    "    accuracies.append(accuracy(y_true, y_pred))\n",
    "\n",
    "    # validation\n",
    "    model.eval()\n",
    "    y_true = []\n",
    "    y_pred = []\n",
    "    for i, (windows, labels) in enumerate(val_loader):\n",
    "        windows = windows.to(device)\n",
    "        labels = labels.unsqueeze(1).float().to(device)\n",
    "\n",
    "        outputs = model(windows)\n",
    "        y_t = list(labels.squeeze().cpu().numpy().astype(int))\n",
    "\n",
    "        y_p = torch.sigmoid(outputs).squeeze().cpu().detach().numpy()\n",
    "        y_p = list(np.where(y_p > 0.5, 1, 0))\n",
    "\n",
    "        y_true.extend(y_t)\n",
    "        y_pred.extend(y_p)\n",
    "\n",
    "    val_acc = accuracy(y_true, y_pred)\n",
    "    val_accuracies.append(val_acc)\n",
    "\n",
    "    print(f\"epoch {epoch+1}/{num_epochs}: val_acc: {val_acc}\")\n"
   ]
  },
  {
   "cell_type": "code",
   "execution_count": 70,
   "metadata": {},
   "outputs": [
    {
     "data": {
      "text/plain": [
       "[<matplotlib.lines.Line2D at 0x2bc05bcd0>]"
      ]
     },
     "execution_count": 70,
     "metadata": {},
     "output_type": "execute_result"
    },
    {
     "data": {
      "image/png": "[encoded data removed]",
      "text/plain": [
       "<Figure size 640x480 with 1 Axes>"
      ]
     },
     "metadata": {},
     "output_type": "display_data"
    }
   ],
   "source": [
    "import matplotlib.pyplot as plt\n",
    "plt.plot(losses)"
   ]
  },
  {
   "cell_type": "code",
   "execution_count": 71,
   "metadata": {},
   "outputs": [
    {
     "data": {
      "text/plain": [
       "<matplotlib.legend.Legend at 0x2bc33a980>"
      ]
     },
     "execution_count": 71,
     "metadata": {},
     "output_type": "execute_result"
    },
    {
     "data": {
      "image/png": "[encoded data removed]",
      "text/plain": [
       "<Figure size 640x480 with 1 Axes>"
      ]
     },
     "metadata": {},
     "output_type": "display_data"
    }
   ],
   "source": [
    "fig, ax = plt.subplots()\n",
    "\n",
    "ax.plot(accuracies, label=\"train\")\n",
    "ax.plot(val_accuracies, label=\"val\")\n",
    "ax.legend()\n",
    "\n"
   ]
  },
  {
   "cell_type": "markdown",
   "metadata": {},
   "source": [
    "## Visualizing the data\n",
    "The prgram midi2vid can be used to visualize the midi files events.\n",
    "if the right or left attribute is not set, the program will use a separate color. \n",
    "This can be used to visualize the wrong predictions of the model.\n",
    "\n",
    "```\n",
    "python3 src/main.py --source_path=/Users/oscar/pro/midi2hands/data/Bach-ItalienischesKonzert.mid --output_path=/Users/oscar/pro/midi2hands/data/Bach-ItalienischesKonzert.mp4 --events_path=/Users/oscar/pro/midi2hands/events/Bach-ItalienischesKonzert.json\n",
    "\n",
    "python3 src/main.py --source_path=/Users/oscar/pro/midi2hands/data/Bach-ItalienischesKonzert.mid --output_path=/Users/oscar/pro/midi2hands/data/Bach-ItalienischesKonzert.mp4 --events_path=/Users/oscar/pro/midi2hands/events/Bach-ItalienischesKonzert.json\n",
    "```\n",
    "\n",
    "python3 src/main.py --source_path=/Users/oscar/pro/midi2hands/data/data/Mendelssohn-LiederOhneWorte_Band1No19.mid --output_path=/Users/oscar/pro/midi2hands/data/Bach-ItalienischesKonzert.mp4 --events_path=/Users/oscar/pro/midi2hands/events/valid_sample1.json"
   ]
  },
  {
   "cell_type": "code",
   "execution_count": null,
   "metadata": {},
   "outputs": [],
   "source": []
  },
  {
   "cell_type": "code",
   "execution_count": 86,
   "metadata": {},
   "outputs": [
    {
     "name": "stdout",
     "output_type": "stream",
     "text": [
      "data/train/010-BachJS-FrzSuite2_Menuett.mid\n",
      "268\n",
      "padded events 298\n",
      "events 268\n",
      "outputs 268\n",
      "events 268\n",
      "Acuuracy for 010-BachJS-FrzSuite2_Menuett.mid: 0.9291044776119403\n"
     ]
    }
   ],
   "source": [
    "mp = MidiEventProcessor()\n",
    "\n",
    "# get one file from the test paths\n",
    "file_path = val_paths[3]\n",
    "print(file_path)\n",
    "\n",
    "# extract the note events\n",
    "events = mp.extract_note_events(file_path)\n",
    "print(len(events))\n",
    "\n",
    "# run inference on the events\n",
    "\n",
    "\n",
    "def run_inference(events, model, window_size):\n",
    "    y_pred = []\n",
    "    # events = pad_events(events, window_size)\n",
    "    for i in range(0, len(events), 1):\n",
    "        if i < window_size:\n",
    "            window = events[0:i+1]\n",
    "        else:\n",
    "            window = events[i-window_size:i+1]\n",
    "        window = preprocess_window(window)\n",
    "        window = torch.tensor(window).float().to(device).unsqueeze(0)\n",
    "        output = model(window)\n",
    "        output = torch.sigmoid(output).squeeze().cpu().detach().numpy()\n",
    "        print(output)\n",
    "        output = 0 if output < 0.5 else 1\n",
    "        y_pred.append(output)\n",
    "    print(\"outputs\", len(y_pred))\n",
    "    print(\"events\", len(events))\n",
    "    assert len(y_pred) == len(events)\n",
    "    return y_pred\n",
    "\n",
    "def run_inference2(events, model, window_size):\n",
    "    y_pred = []\n",
    "    padded_events = pad_events(events.copy(), window_size)\n",
    "    print(\"padded events\", len(padded_events))\n",
    "    print(\"events\", len(events))\n",
    "    h = window_size // 2\n",
    "    for i in range(h, len(events) + h, 1):\n",
    "        # 1. extract the window\n",
    "        window_events = padded_events[i-h : i+h]\n",
    "        assert len(window_events) == window_size\n",
    "        # 2. preprocess the window\n",
    "        preprocessed_window = preprocess_window(window_events)\n",
    "\n",
    "        # 3. get the label\n",
    "        label = padded_events[i].hand\n",
    "        label = convert_hand_to_number(label)\n",
    "\n",
    "        tensor_window = torch.tensor(preprocessed_window).float().to(device).unsqueeze(0)\n",
    "\n",
    "        output = model(tensor_window)\n",
    "        output = torch.sigmoid(output).squeeze().cpu().detach().numpy()\n",
    "        # print(output)\n",
    "        output = 0 if output < 0.5 else 1\n",
    "        y_pred.append(output)\n",
    "    print(\"outputs\", len(y_pred))\n",
    "    print(\"events\", len(events))\n",
    "    assert len(y_pred) == len(events)\n",
    "    return y_pred\n",
    "\n",
    "def inference(path, model, window_size):\n",
    "    mp = MidiEventProcessor()\n",
    "    events = mp.extract_note_events(path)\n",
    "    y_pred = run_inference2(events, model, window_size)\n",
    "    return y_pred\n",
    "\n",
    "y_pred = run_inference2(events, model, window_size=30)\n",
    "\n",
    "# compare the outputs with the ground truth, 0 is left hand, 1 is right hand\n",
    "y_true = [0 if event.hand == \"left\" else 1 for event in events]\n",
    "\n",
    "print(f\"Acuuracy for {file_path.name}: {accuracy(y_true, y_pred)}\")\n",
    "\n",
    "# update the events with the predictions\n",
    "for i, event in enumerate(events):\n",
    "    # set none on incorrect predictions\n",
    "    if y_pred[i] != y_true[i]:\n",
    "        event.hand = None\n",
    "\n",
    "# now we should be able to visualize the events\n"
   ]
  },
  {
   "cell_type": "code",
   "execution_count": 87,
   "metadata": {},
   "outputs": [
    {
     "name": "stdout",
     "output_type": "stream",
     "text": [
      "[0, 1, 0, 1, 0, 0, 1, 0, 0, 1, 0, 1, 1, 0, 1, 1, 0, 1, 0, 1, 0, 1, 0, 0, 0, 1, 0, 0, 1, 0, 1, 0, 0, 0, 1, 0, 1, 0, 0, 0, 0, 0, 1, 0, 1, 0, 0, 0, 0, 1, 0, 0, 0, 1, 1, 0, 0, 1, 0, 0, 0, 0, 0, 0, 1, 0, 1, 1, 1, 0, 0, 1, 0, 0, 1, 0, 0, 1, 0, 0, 0, 0, 0, 0, 1, 0, 0, 1, 0, 0, 1, 0, 0, 1, 0, 0, 1, 1, 0, 1, 0, 1, 0, 1, 1, 0, 0, 0, 0, 0, 0, 1, 0, 0, 1, 0, 0, 1, 0, 0, 1, 0, 1, 0, 0, 1, 0, 0, 1, 0, 1, 1, 1, 1, 1, 1, 0, 0, 1, 0, 0, 1, 0, 0, 1, 0, 0, 1, 0, 0, 1, 0, 0, 1, 0, 0, 1, 0, 0, 1, 0, 0, 0, 1, 0, 1, 0, 0, 0, 1, 0, 1, 0, 0, 1, 0, 0, 1, 0, 0, 1, 0, 0, 1, 0, 0, 1, 0, 0, 0, 1, 0, 1, 0, 0, 1, 0, 0, 1, 0, 0, 1, 0, 0, 0, 0, 1, 0, 0, 0, 0, 1, 0, 0, 0, 1, 0, 1, 1, 1, 1, 1, 1, 1, 1, 1, 1, 0, 1, 0, 1, 0, 1, 0, 0, 1, 0, 0, 0, 1, 0, 1, 0, 0, 1, 0, 0, 0, 0, 0, 0, 1, 0, 0, 0, 0, 0, 0, 1, 0, 1, 0, 0, 0, 1, 0, 1, 0]\n",
      "[1, 1, 1, 1, 1, 1, 1, 1, 1, 1, 1, 1, 1, 1, 1, 1, 0, 1, 0, 1, 0, 1, 0, 0, 0, 1, 0, 0, 1, 0, 1, 0, 0, 0, 1, 0, 1, 0, 0, 0, 0, 0, 1, 0, 1, 0, 0, 0, 0, 1, 0, 0, 0, 1, 1, 0, 0, 1, 0, 0, 0, 0, 0, 0, 1, 0, 1, 1, 1, 0, 0, 1, 0, 0, 1, 0, 0, 1, 0, 0, 0, 0, 0, 0, 1, 0, 0, 1, 0, 0, 1, 0, 0, 1, 0, 0, 1, 1, 0, 1, 0, 1, 0, 1, 1, 0, 0, 0, 0, 0, 0, 1, 0, 0, 1, 0, 0, 1, 0, 0, 1, 0, 1, 0, 0, 1, 0, 0, 1, 0, 1, 1, 1, 1, 1, 1, 0, 0, 1, 0, 0, 1, 0, 0, 1, 0, 0, 1, 0, 0, 1, 0, 0, 1, 0, 0, 1, 0, 0, 1, 0, 0, 0, 1, 0, 1, 0, 0, 0, 1, 0, 1, 0, 0, 1, 0, 0, 1, 0, 0, 1, 0, 0, 1, 0, 0, 1, 0, 0, 0, 1, 0, 1, 0, 0, 1, 0, 0, 1, 0, 0, 1, 0, 0, 0, 0, 1, 0, 0, 0, 0, 1, 0, 0, 0, 1, 0, 1, 1, 1, 1, 0, 1, 1, 1, 1, 1, 0, 1, 0, 1, 0, 1, 0, 0, 1, 0, 0, 0, 1, 0, 1, 0, 0, 1, 0, 0, 0, 0, 0, 0, 1, 0, 0, 1, 1, 1, 1, 1, 1, 1, 1, 1, 1, 1, 1, 1, 1]\n"
     ]
    }
   ],
   "source": [
    "print(y_true)\n",
    "print(y_pred)"
   ]
  },
  {
   "cell_type": "code",
   "execution_count": 85,
   "metadata": {},
   "outputs": [],
   "source": [
    "to_json(events, Path(\"events/valid_sample1.json\"))"
   ]
  },
  {
   "cell_type": "code",
   "execution_count": 23,
   "metadata": {},
   "outputs": [],
   "source": [
    "from pathlib import Path\n",
    "\n",
    "def extract_windows_from_files(paths, window_size, step_size):\n",
    "    all_windows = []\n",
    "    all_labels = []\n",
    "    mp = MidiEventProcessor()\n",
    "    for path in tqdm(paths):\n",
    "        events = mp.extract_note_events(path)\n",
    "        windows, labels = extract_windows_and_labels(events, window_size, step_size, bidirectional=True)\n",
    "        all_windows.extend(windows)\n",
    "        all_labels.extend(labels)\n",
    "    return np.array(all_windows), np.array(all_labels)\n",
    "\n",
    "def k_fold_split(k):\n",
    "    paths = list(Path(\"data\").rglob(\"*.mid\"))\n",
    "    n = len(paths)\n",
    "    fold_size = n // k\n",
    "    folds = []\n",
    "    for i in range(k):\n",
    "        start = i * fold_size\n",
    "        end = (i + 1) * fold_size\n",
    "        val_fold = paths[start:end]\n",
    "        train_fold = paths[:start] + paths[end:]\n",
    "        folds.append((train_fold, val_fold))\n",
    "    return folds"
   ]
  },
  {
   "cell_type": "code",
   "execution_count": 37,
   "metadata": {},
   "outputs": [
    {
     "name": "stderr",
     "output_type": "stream",
     "text": [
      "100%|██████████| 110/110 [00:06<00:00, 18.12it/s]\n",
      "100%|██████████| 12/12 [00:00<00:00, 24.51it/s]\n",
      "100%|██████████| 110/110 [00:05<00:00, 19.18it/s]\n",
      "100%|██████████| 12/12 [00:00<00:00, 16.00it/s]\n",
      "100%|██████████| 110/110 [00:05<00:00, 18.39it/s]\n",
      "100%|██████████| 12/12 [00:00<00:00, 22.47it/s]\n",
      "100%|██████████| 110/110 [00:06<00:00, 17.94it/s]\n",
      "100%|██████████| 12/12 [00:00<00:00, 31.65it/s]\n",
      "100%|██████████| 110/110 [00:06<00:00, 18.04it/s]\n",
      "100%|██████████| 12/12 [00:00<00:00, 31.90it/s]\n",
      "100%|██████████| 110/110 [00:05<00:00, 18.65it/s]\n",
      "100%|██████████| 12/12 [00:00<00:00, 20.76it/s]\n",
      "100%|██████████| 110/110 [00:05<00:00, 19.64it/s]\n",
      "100%|██████████| 12/12 [00:00<00:00, 13.99it/s]\n",
      "100%|██████████| 110/110 [00:05<00:00, 20.64it/s]\n",
      "100%|██████████| 12/12 [00:01<00:00, 10.38it/s]\n",
      "100%|██████████| 110/110 [00:05<00:00, 18.96it/s]\n",
      "100%|██████████| 12/12 [00:00<00:00, 17.38it/s]\n",
      "100%|██████████| 110/110 [00:05<00:00, 18.77it/s]\n",
      "100%|██████████| 12/12 [00:00<00:00, 18.53it/s]\n"
     ]
    }
   ],
   "source": [
    "k_fold_data = k_fold_split(10)\n",
    "data_sets = []\n",
    "for train_paths, val_paths in k_fold_data:\n",
    "    train_windows, train_labels = extract_windows_from_files(\n",
    "        train_paths, window_size=30, step_size=1\n",
    "    )\n",
    "    val_windows, val_labels = extract_windows_from_files(\n",
    "        val_paths, window_size=30, step_size=1\n",
    "    )\n",
    "\n",
    "    # create a data loader\n",
    "    train_dataset = MidiDataset(train_windows, train_labels)\n",
    "    val_dataset = MidiDataset(val_windows, val_labels)\n",
    "    data_sets.append((train_dataset, val_dataset))"
   ]
  },
  {
   "cell_type": "code",
   "execution_count": 48,
   "metadata": {},
   "outputs": [
    {
     "name": "stdout",
     "output_type": "stream",
     "text": [
      "50 33\n",
      "12 7\n",
      "49 34\n",
      "50 33\n",
      "43 40\n",
      "50 33\n",
      "33 50\n",
      "9 10\n",
      "15 4\n",
      "54 29\n"
     ]
    }
   ],
   "source": [
    "batch_size = 64\n",
    "for T,V in data_sets:\n",
    "    print(len(T)%batch_size, len(V)%batch_size)"
   ]
  },
  {
   "cell_type": "code",
   "execution_count": 42,
   "metadata": {},
   "outputs": [
    {
     "name": "stdout",
     "output_type": "stream",
     "text": [
      "122\n"
     ]
    }
   ],
   "source": [
    "paths = list(Path(\"data\").rglob(\"*.mid\"))\n",
    "print(len(paths))"
   ]
  },
  {
   "cell_type": "code",
   "execution_count": null,
   "metadata": {},
   "outputs": [],
   "source": []
  }
 ],
 "metadata": {
  "kernelspec": {
   "display_name": "venv",
   "language": "python",
   "name": "python3"
  },
  "language_info": {
   "codemirror_mode": {
    "name": "ipython",
    "version": 3
   },
   "file_extension": ".py",
   "mimetype": "text/x-python",
   "name": "python",
   "nbconvert_exporter": "python",
   "pygments_lexer": "ipython3",
   "version": "3.10.14"
  }
 },
 "nbformat": 4,
 "nbformat_minor": 2
}
